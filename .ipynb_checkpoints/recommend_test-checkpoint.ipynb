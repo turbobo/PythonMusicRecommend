{
 "cells": [
  {
   "cell_type": "markdown",
   "metadata": {},
   "source": [
    "### 从0搭建一个音乐推荐系统\n",
    "* 数据集介绍\n",
    "* 基于排行榜的推荐\n",
    "* 基于协同过滤的推荐\n",
    "* 基于矩阵分解的推荐\n",
    "* 基于GBDT+LR预估的排序\n",
    "* 结语"
   ]
  },
  {
   "cell_type": "code",
   "execution_count": 1,
   "metadata": {
    "pycharm": {
     "is_executing": false,
     "name": "#%%\n"
    }
   },
   "outputs": [],
   "source": [
    "# 第三方库\n",
    "import pandas as pd\n",
    "import numpy as np\n",
    "from sklearn.preprocessing import LabelEncoder, OneHotEncoder\n",
    "import sqlite3\n",
    "import seaborn as sns\n",
    "import matplotlib.pyplot as plt\n",
    "from wordcloud import WordCloud\n",
    "from surprise import KNNBasic\n",
    "from surprise import SVD\n",
    "from surprise import Reader, Dataset, accuracy\n",
    "from surprise.model_selection import KFold\n",
    "from sklearn.ensemble import GradientBoostingClassifier\n",
    "from sklearn.linear_model import LogisticRegression\n",
    "from sklearn.metrics import roc_auc_score\n",
    "from sklearn.model_selection import train_test_split"
   ]
  },
  {
   "cell_type": "markdown",
   "metadata": {},
   "source": [
    "#### Part 1. 数据集介绍\n",
    "* 我们的数据集\n",
    "* 数据集预处理\n",
    "\n",
    "我们的数据集是从网上的一个项目中获得的，这个项目由The Echonest和LABRosa一起完成。数据集主要是多年间外国音乐的量化特征，包含了百万用户对几十万首歌曲的播放记录（train_triplets.txt，2.9G）和这些歌曲的详细信息（triplets_metadata.db，700M）。\n",
    "\n",
    "你可以从我的博客中直接获取这些数据。我的博客地址\n",
    "\n",
    "用户的播放记录数据集train_triplets.txt格式是这样的：用户 歌曲 播放次数，其中用户和歌曲都匿名\n",
    "\n",
    "歌曲的详细信息数据集triplets_metadata.db则包括歌曲的发布时间、作者、作者热度等\n",
    "\n",
    "由于数据集很大，可以从.txt文件中选取200万条数据作为我们的数据集。"
   ]
  },
  {
   "cell_type": "markdown",
   "metadata": {},
   "source": [
    "##### Step 1. 对.txt文件的处理\n",
    "* 通过编码和转换数据类型降低数据内存\n",
    "* 过滤掉播放量过低的用户"
   ]
  },
  {
   "cell_type": "code",
   "execution_count": 2,
   "metadata": {
    "pycharm": {
     "is_executing": false,
     "name": "#%%\n"
    }
   },
   "outputs": [
    {
     "data": {
      "text/html": [
       "<div>\n",
       "<style scoped>\n",
       "    .dataframe tbody tr th:only-of-type {\n",
       "        vertical-align: middle;\n",
       "    }\n",
       "\n",
       "    .dataframe tbody tr th {\n",
       "        vertical-align: top;\n",
       "    }\n",
       "\n",
       "    .dataframe thead th {\n",
       "        text-align: right;\n",
       "    }\n",
       "</style>\n",
       "<table border=\"1\" class=\"dataframe\">\n",
       "  <thead>\n",
       "    <tr style=\"text-align: right;\">\n",
       "      <th></th>\n",
       "      <th>user</th>\n",
       "      <th>song</th>\n",
       "      <th>play_count</th>\n",
       "    </tr>\n",
       "  </thead>\n",
       "  <tbody>\n",
       "    <tr>\n",
       "      <th>0</th>\n",
       "      <td>b80344d063b5ccb3212f76538f3d9e43d87dca9e</td>\n",
       "      <td>SOAKIMP12A8C130995</td>\n",
       "      <td>1</td>\n",
       "    </tr>\n",
       "    <tr>\n",
       "      <th>1</th>\n",
       "      <td>b80344d063b5ccb3212f76538f3d9e43d87dca9e</td>\n",
       "      <td>SOAPDEY12A81C210A9</td>\n",
       "      <td>1</td>\n",
       "    </tr>\n",
       "    <tr>\n",
       "      <th>2</th>\n",
       "      <td>b80344d063b5ccb3212f76538f3d9e43d87dca9e</td>\n",
       "      <td>SOBBMDR12A8C13253B</td>\n",
       "      <td>2</td>\n",
       "    </tr>\n",
       "    <tr>\n",
       "      <th>3</th>\n",
       "      <td>b80344d063b5ccb3212f76538f3d9e43d87dca9e</td>\n",
       "      <td>SOBFNSP12AF72A0E22</td>\n",
       "      <td>1</td>\n",
       "    </tr>\n",
       "    <tr>\n",
       "      <th>4</th>\n",
       "      <td>b80344d063b5ccb3212f76538f3d9e43d87dca9e</td>\n",
       "      <td>SOBFOVM12A58A7D494</td>\n",
       "      <td>1</td>\n",
       "    </tr>\n",
       "  </tbody>\n",
       "</table>\n",
       "</div>"
      ],
      "text/plain": [
       "                                       user                song  play_count\n",
       "0  b80344d063b5ccb3212f76538f3d9e43d87dca9e  SOAKIMP12A8C130995           1\n",
       "1  b80344d063b5ccb3212f76538f3d9e43d87dca9e  SOAPDEY12A81C210A9           1\n",
       "2  b80344d063b5ccb3212f76538f3d9e43d87dca9e  SOBBMDR12A8C13253B           2\n",
       "3  b80344d063b5ccb3212f76538f3d9e43d87dca9e  SOBFNSP12AF72A0E22           1\n",
       "4  b80344d063b5ccb3212f76538f3d9e43d87dca9e  SOBFOVM12A58A7D494           1"
      ]
     },
     "execution_count": 2,
     "metadata": {},
     "output_type": "execute_result"
    }
   ],
   "source": [
    "# 读取数据\n",
    "data = pd.read_csv('./train_triplets.txt',\n",
    "                   sep='\\t', header=None, names=['user', 'song', 'play_count'], nrows=2000000)\n",
    "data.head()"
   ]
  },
  {
   "cell_type": "code",
   "execution_count": 3,
   "metadata": {
    "pycharm": {
     "is_executing": false,
     "name": "#%%\n"
    }
   },
   "outputs": [
    {
     "name": "stdout",
     "output_type": "stream",
     "text": [
      "<class 'pandas.core.frame.DataFrame'>\n",
      "RangeIndex: 2000000 entries, 0 to 1999999\n",
      "Data columns (total 3 columns):\n",
      " #   Column      Dtype \n",
      "---  ------      ----- \n",
      " 0   user        object\n",
      " 1   song        object\n",
      " 2   play_count  int64 \n",
      "dtypes: int64(1), object(2)\n",
      "memory usage: 45.8+ MB\n"
     ]
    }
   ],
   "source": [
    "# 查看数据内存信息\n",
    "data.info()"
   ]
  },
  {
   "cell_type": "markdown",
   "metadata": {},
   "source": [
    "可以看到，用户和歌曲已经被加过密，不过这并不妨碍我们做推荐。\n",
    "\n",
    "查看数据集内存信息，为了方便后面快速运算，我们需要降低其内存大小。具体的，\n",
    "* 我们对user和song进行labelencoder\n",
    "* 将所有的数据类型转化为int32"
   ]
  },
  {
   "cell_type": "code",
   "execution_count": 4,
   "metadata": {
    "pycharm": {
     "is_executing": false,
     "name": "#%%\n"
    }
   },
   "outputs": [
    {
     "data": {
      "text/html": [
       "<div>\n",
       "<style scoped>\n",
       "    .dataframe tbody tr th:only-of-type {\n",
       "        vertical-align: middle;\n",
       "    }\n",
       "\n",
       "    .dataframe tbody tr th {\n",
       "        vertical-align: top;\n",
       "    }\n",
       "\n",
       "    .dataframe thead th {\n",
       "        text-align: right;\n",
       "    }\n",
       "</style>\n",
       "<table border=\"1\" class=\"dataframe\">\n",
       "  <thead>\n",
       "    <tr style=\"text-align: right;\">\n",
       "      <th></th>\n",
       "      <th>user</th>\n",
       "      <th>song</th>\n",
       "      <th>play_count</th>\n",
       "    </tr>\n",
       "  </thead>\n",
       "  <tbody>\n",
       "    <tr>\n",
       "      <th>0</th>\n",
       "      <td>29990</td>\n",
       "      <td>3209</td>\n",
       "      <td>1</td>\n",
       "    </tr>\n",
       "    <tr>\n",
       "      <th>1</th>\n",
       "      <td>29990</td>\n",
       "      <td>4702</td>\n",
       "      <td>1</td>\n",
       "    </tr>\n",
       "    <tr>\n",
       "      <th>2</th>\n",
       "      <td>29990</td>\n",
       "      <td>8475</td>\n",
       "      <td>2</td>\n",
       "    </tr>\n",
       "    <tr>\n",
       "      <th>3</th>\n",
       "      <td>29990</td>\n",
       "      <td>9707</td>\n",
       "      <td>1</td>\n",
       "    </tr>\n",
       "    <tr>\n",
       "      <th>4</th>\n",
       "      <td>29990</td>\n",
       "      <td>9717</td>\n",
       "      <td>1</td>\n",
       "    </tr>\n",
       "    <tr>\n",
       "      <th>...</th>\n",
       "      <td>...</td>\n",
       "      <td>...</td>\n",
       "      <td>...</td>\n",
       "    </tr>\n",
       "    <tr>\n",
       "      <th>1999995</th>\n",
       "      <td>14869</td>\n",
       "      <td>150910</td>\n",
       "      <td>2</td>\n",
       "    </tr>\n",
       "    <tr>\n",
       "      <th>1999996</th>\n",
       "      <td>14869</td>\n",
       "      <td>152803</td>\n",
       "      <td>1</td>\n",
       "    </tr>\n",
       "    <tr>\n",
       "      <th>1999997</th>\n",
       "      <td>14869</td>\n",
       "      <td>163072</td>\n",
       "      <td>2</td>\n",
       "    </tr>\n",
       "    <tr>\n",
       "      <th>1999998</th>\n",
       "      <td>14869</td>\n",
       "      <td>171650</td>\n",
       "      <td>1</td>\n",
       "    </tr>\n",
       "    <tr>\n",
       "      <th>1999999</th>\n",
       "      <td>14759</td>\n",
       "      <td>34682</td>\n",
       "      <td>1</td>\n",
       "    </tr>\n",
       "  </tbody>\n",
       "</table>\n",
       "<p>2000000 rows × 3 columns</p>\n",
       "</div>"
      ],
      "text/plain": [
       "          user    song  play_count\n",
       "0        29990    3209           1\n",
       "1        29990    4702           1\n",
       "2        29990    8475           2\n",
       "3        29990    9707           1\n",
       "4        29990    9717           1\n",
       "...        ...     ...         ...\n",
       "1999995  14869  150910           2\n",
       "1999996  14869  152803           1\n",
       "1999997  14869  163072           2\n",
       "1999998  14869  171650           1\n",
       "1999999  14759   34682           1\n",
       "\n",
       "[2000000 rows x 3 columns]"
      ]
     },
     "execution_count": 4,
     "metadata": {},
     "output_type": "execute_result"
    }
   ],
   "source": [
    "# label编码\n",
    "user_encoder = LabelEncoder()\n",
    "data['user'] = user_encoder.fit_transform(data['user'].values)\n",
    "\n",
    "song_encoder = LabelEncoder()\n",
    "data['song'] = song_encoder.fit_transform(data['song'].values)\n",
    "\n",
    "\n",
    "# 数据类型转换\n",
    "data.astype({'user': 'int32', 'song': 'int32', 'play_count': 'int32'})"
   ]
  },
  {
   "cell_type": "code",
   "execution_count": 5,
   "metadata": {
    "pycharm": {
     "is_executing": false,
     "name": "#%%\n"
    }
   },
   "outputs": [
    {
     "name": "stdout",
     "output_type": "stream",
     "text": [
      "<class 'pandas.core.frame.DataFrame'>\n",
      "RangeIndex: 2000000 entries, 0 to 1999999\n",
      "Data columns (total 3 columns):\n",
      " #   Column      Dtype\n",
      "---  ------      -----\n",
      " 0   user        int32\n",
      " 1   song        int32\n",
      " 2   play_count  int64\n",
      "dtypes: int32(2), int64(1)\n",
      "memory usage: 30.5 MB\n"
     ]
    }
   ],
   "source": [
    "# 当前内存结果\n",
    "data.info()"
   ]
  },
  {
   "cell_type": "markdown",
   "metadata": {},
   "source": [
    "这里，我们看到，内存从450M降低到300M，这样处理是有效的。\n",
    "\n",
    "接着，我们需要进行一些基本的数据过滤。我们先来看一下用户的歌曲播放总量的分布情况。"
   ]
  },
  {
   "cell_type": "code",
   "execution_count": 6,
   "metadata": {
    "pycharm": {
     "is_executing": false,
     "name": "#%%\n"
    }
   },
   "outputs": [],
   "source": [
    "# 用户的歌曲播放总量的分布\n",
    "# 字典user_playcounts记录每个用户的播放总量\n",
    "user_playcounts = {}\n",
    "for user, group in data.groupby('user'):\n",
    "    user_playcounts[user] = group['play_count'].sum()"
   ]
  },
  {
   "cell_type": "code",
   "execution_count": 7,
   "metadata": {
    "pycharm": {
     "is_executing": false,
     "name": "#%%\n"
    }
   },
   "outputs": [
    {
     "name": "stderr",
     "output_type": "stream",
     "text": [
      "e:\\python\\lib\\site-packages\\seaborn\\distributions.py:2619: FutureWarning: `distplot` is a deprecated function and will be removed in a future version. Please adapt your code to use either `displot` (a figure-level function with similar flexibility) or `histplot` (an axes-level function for histograms).\n",
      "  warnings.warn(msg, FutureWarning)\n"
     ]
    },
    {
     "data": {
      "image/png": "[encoded data removed]",
      "text/plain": [
       "<Figure size 432x288 with 1 Axes>"
      ]
     },
     "metadata": {
      "needs_background": "light"
     },
     "output_type": "display_data"
    }
   ],
   "source": [
    "# 作图\n",
    "sns.distplot(list(user_playcounts.values()), bins=5000, kde=False)\n",
    "plt.xlim(0, 200)\n",
    "plt.xlabel('play_count')\n",
    "plt.ylabel('nums of user')\n",
    "plt.show()"
   ]
  },
  {
   "cell_type": "markdown",
   "metadata": {},
   "source": [
    "从上图可以看到，有一大部分用户的歌曲播放量少于100。\n",
    "少于100的歌曲播放量在持续几年的时间长度上来看是不正常的。\n",
    "造成这种现象的原因，可能是这些用户不喜欢听歌，只是偶尔点开。\n",
    "对于这些用户，我们看看他们在总体数据上的占比情况。"
   ]
  },
  {
   "cell_type": "code",
   "execution_count": 8,
   "metadata": {
    "pycharm": {
     "is_executing": false,
     "name": "#%%\n"
    }
   },
   "outputs": [
    {
     "name": "stdout",
     "output_type": "stream",
     "text": [
      "歌曲播放量大于100的用户数量占总体用户数量的比例为 39.51%\n",
      "歌曲播放量大于100的用户产生的播放总量占总体播放总量的比例为 80.278%\n",
      "歌曲播放量大于100的用户产生的数据占总体数据的比例为 71.26%\n"
     ]
    }
   ],
   "source": [
    "temp_user = [user for user in user_playcounts.keys() if user_playcounts[user] > 100]\n",
    "temp_playcounts = [playcounts for user, playcounts in user_playcounts.items() if playcounts > 100]\n",
    "\n",
    "print('歌曲播放量大于100的用户数量占总体用户数量的比例为', str(round(len(temp_user)/len(user_playcounts), 4)*100)+'%')\n",
    "print('歌曲播放量大于100的用户产生的播放总量占总体播放总量的比例为', str(round(sum(temp_playcounts) / sum(user_playcounts.values())*100, 4))+'%')\n",
    "print('歌曲播放量大于100的用户产生的数据占总体数据的比例为', str(round(len(data[data.user.isin(temp_user)])/len(data)*100, 4))+\"%\")"
   ]
  },
  {
   "cell_type": "markdown",
   "metadata": {},
   "source": [
    "通过上面的结果，我们可以看到，歌曲播放量大于100的用户占总体的40%，而正是这40%的用户，产生了80%的播放量，占据了总体数据的70%。\n",
    "因此，我们可以直接将歌曲播放量少于100的用户过滤掉，而不影响整体数据。"
   ]
  },
  {
   "cell_type": "code",
   "execution_count": 9,
   "metadata": {
    "pycharm": {
     "is_executing": false,
     "name": "#%%\n"
    }
   },
   "outputs": [],
   "source": [
    "# 过滤掉歌曲播放量少于100的用户的数据\n",
    "data = data[data.user.isin(temp_user)]"
   ]
  },
  {
   "cell_type": "markdown",
   "metadata": {},
   "source": [
    "类似的，我们挑选出具有一定播放量的歌曲。因为播放量太低的歌曲不但会增加计算复杂度，还会降低协同过滤的准确度。\n",
    "我们首先看不同歌曲的播放量分布情况。"
   ]
  },
  {
   "cell_type": "code",
   "execution_count": 10,
   "metadata": {
    "pycharm": {
     "is_executing": false,
     "name": "#%%\n"
    }
   },
   "outputs": [],
   "source": [
    "# song_playcounts字典，记录每首歌的播放量\n",
    "song_playcounts = {}\n",
    "for song, group in data.groupby('song'):\n",
    "    song_playcounts[song] = group['play_count'].sum() "
   ]
  },
  {
   "cell_type": "code",
   "execution_count": 11,
   "metadata": {
    "pycharm": {
     "is_executing": false,
     "name": "#%%\n"
    }
   },
   "outputs": [
    {
     "data": {
      "image/png": "[encoded data removed]",
      "text/plain": [
       "<Figure size 432x288 with 1 Axes>"
      ]
     },
     "metadata": {
      "needs_background": "light"
     },
     "output_type": "display_data"
    }
   ],
   "source": [
    "# 作图\n",
    "sns.distplot(list(song_playcounts.values()), bins=10000, kde=False)\n",
    "plt.xlim(0, 100)\n",
    "plt.xlabel('play_count')\n",
    "plt.ylabel('nums of song')\n",
    "plt.show()"
   ]
  },
  {
   "cell_type": "markdown",
   "metadata": {},
   "source": [
    "我们观察到，大部分歌曲的播放量非常少，甚至不到50次！这些歌曲完全无人问津，属于我们可以过滤掉的对象。"
   ]
  },
  {
   "cell_type": "code",
   "execution_count": 12,
   "metadata": {
    "pycharm": {
     "is_executing": false,
     "name": "#%%\n"
    }
   },
   "outputs": [
    {
     "name": "stdout",
     "output_type": "stream",
     "text": [
      "播放量大于20的歌曲数量占总体歌曲数量的比例为 10.2%\n",
      "播放量大于20的歌曲产生的播放总量占总体播放总量的比例为 71.0557%\n",
      "播放量大于20的歌曲产生的数据占总体数据的比例为 61.2672%\n"
     ]
    }
   ],
   "source": [
    "temp_song = [song for song in song_playcounts.keys() if song_playcounts[song] > 50]\n",
    "temp_playcounts = [playcounts for song, playcounts in song_playcounts.items() if playcounts > 50]\n",
    "\n",
    "print('播放量大于20的歌曲数量占总体歌曲数量的比例为', str(round(len(temp_song)/len(song_playcounts), 4)*100)+'%')\n",
    "print('播放量大于20的歌曲产生的播放总量占总体播放总量的比例为', str(round(sum(temp_playcounts) / sum(song_playcounts.values())*100, 4))+'%')\n",
    "print('播放量大于20的歌曲产生的数据占总体数据的比例为', str(round(len(data[data.song.isin(temp_song)])/len(data)*100, 4))+\"%\")"
   ]
  },
  {
   "cell_type": "markdown",
   "metadata": {},
   "source": [
    "可以看到，播放量大于50的歌曲数量，占总体数量的27%，而这27%的歌曲，产生的播放总量和数据总量都占90%以上！\n",
    "因此可以说，过滤掉这些播放量小于50的歌曲，对总体数据不会产生太大影响。"
   ]
  },
  {
   "cell_type": "code",
   "execution_count": 13,
   "metadata": {
    "pycharm": {
     "is_executing": false,
     "name": "#%%\n"
    }
   },
   "outputs": [],
   "source": [
    "# 过滤掉播放量小于50的歌曲\n",
    "data = data[data.song.isin(temp_song)]"
   ]
  },
  {
   "cell_type": "markdown",
   "metadata": {},
   "source": [
    "##### Step 2. 对.db文件的处理\n",
    "* 读取数据\n",
    "* 对song_id进行labelencoder\n",
    "* 将新读取的数据与原有data，按照song_id合并"
   ]
  },
  {
   "cell_type": "code",
   "execution_count": 14,
   "metadata": {
    "pycharm": {
     "is_executing": false,
     "name": "#%%\n"
    }
   },
   "outputs": [
    {
     "ename": "OperationalError",
     "evalue": "unable to open database file",
     "output_type": "error",
     "traceback": [
      "\u001b[1;31m---------------------------------------------------------------------------\u001b[0m",
      "\u001b[1;31mOperationalError\u001b[0m                          Traceback (most recent call last)",
      "\u001b[1;32m~\\AppData\\Local\\Temp/ipykernel_13556/3477771798.py\u001b[0m in \u001b[0;36m<module>\u001b[1;34m\u001b[0m\n\u001b[0;32m      1\u001b[0m \u001b[1;31m# 读取数据\u001b[0m\u001b[1;33m\u001b[0m\u001b[1;33m\u001b[0m\u001b[1;33m\u001b[0m\u001b[0m\n\u001b[1;32m----> 2\u001b[1;33m \u001b[0mconn\u001b[0m \u001b[1;33m=\u001b[0m \u001b[0msqlite3\u001b[0m\u001b[1;33m.\u001b[0m\u001b[0mconnect\u001b[0m\u001b[1;33m(\u001b[0m\u001b[1;34mr'D:\\myfile\\机器学习及推荐系统\\24、python-机器学习-进阶实战\\唐宇迪-机器学习-进阶实战-资料\\13.音乐推荐系统实战\\Python实现音乐推荐系统\\track_metadata.db'\u001b[0m\u001b[1;33m)\u001b[0m\u001b[1;33m\u001b[0m\u001b[1;33m\u001b[0m\u001b[0m\n\u001b[0m\u001b[0;32m      3\u001b[0m \u001b[0mcur\u001b[0m \u001b[1;33m=\u001b[0m \u001b[0mconn\u001b[0m\u001b[1;33m.\u001b[0m\u001b[0mcursor\u001b[0m\u001b[1;33m(\u001b[0m\u001b[1;33m)\u001b[0m\u001b[1;33m\u001b[0m\u001b[1;33m\u001b[0m\u001b[0m\n\u001b[0;32m      4\u001b[0m \u001b[0mcur\u001b[0m\u001b[1;33m.\u001b[0m\u001b[0mexecute\u001b[0m\u001b[1;33m(\u001b[0m\u001b[1;34m\"SELECT name FROM sqlite_master WHERE type='table'\"\u001b[0m\u001b[1;33m)\u001b[0m\u001b[1;33m\u001b[0m\u001b[1;33m\u001b[0m\u001b[0m\n\u001b[0;32m      5\u001b[0m \u001b[0mcur\u001b[0m\u001b[1;33m.\u001b[0m\u001b[0mfetchall\u001b[0m\u001b[1;33m(\u001b[0m\u001b[1;33m)\u001b[0m\u001b[1;33m\u001b[0m\u001b[1;33m\u001b[0m\u001b[0m\n",
      "\u001b[1;31mOperationalError\u001b[0m: unable to open database file"
     ]
    }
   ],
   "source": [
    "# 读取数据\n",
    "conn = sqlite3.connect(r'D:\\myfile\\机器学习及推荐系统\\24、python-机器学习-进阶实战\\唐宇迪-机器学习-进阶实战-资料\\13.音乐推荐系统实战\\Python实现音乐推荐系统\\track_metadata.db')\n",
    "cur = conn.cursor()\n",
    "cur.execute(\"SELECT name FROM sqlite_master WHERE type='table'\")\n",
    "cur.fetchall()\n",
    "\n",
    "# 获得数据的dataframe\n",
    "track_metadata_df = pd.read_sql(con=conn, sql='select * from songs')"
   ]
  },
  {
   "cell_type": "code",
   "execution_count": null,
   "metadata": {
    "pycharm": {
     "is_executing": false,
     "name": "#%%\n"
    }
   },
   "outputs": [],
   "source": [
    "# 对于之前的歌曲编码，我们给一个字典，对歌曲和编码进行一一映射\n",
    "song_labels = dict(zip(song_encoder.classes_, range(len(song_encoder.classes_))))\n",
    "\n",
    "# 对于那些在之前没有出现过的歌曲，我们直接给一个最大的编码\n",
    "encoder = lambda x: song_labels[x] if x in song_labels.keys() else len(song_labels)\n",
    "\n",
    "# 对数据进行labelencoder\n",
    "track_metadata_df['song_id'] = track_metadata_df['song_id'].apply(encoder)"
   ]
  },
  {
   "cell_type": "code",
   "execution_count": null,
   "metadata": {
    "pycharm": {
     "is_executing": false,
     "name": "#%%\n"
    }
   },
   "outputs": [],
   "source": [
    "# 对song_id重命名为song\n",
    "track_metadata_df = track_metadata_df.rename(columns={'song_id': 'song'})"
   ]
  },
  {
   "cell_type": "code",
   "execution_count": null,
   "metadata": {
    "pycharm": {
     "is_executing": false,
     "name": "#%%\n"
    }
   },
   "outputs": [],
   "source": [
    "# 根据特征song进行拼接，将拼接后的数据重新命名为data\n",
    "data = pd.merge(data, track_metadata_df, on='song')"
   ]
  },
  {
   "cell_type": "code",
   "execution_count": null,
   "metadata": {
    "pycharm": {
     "is_executing": false,
     "name": "#%%\n"
    }
   },
   "outputs": [],
   "source": [
    "data.info()"
   ]
  },
  {
   "cell_type": "code",
   "execution_count": null,
   "metadata": {
    "pycharm": {
     "is_executing": false,
     "name": "#%%\n"
    }
   },
   "outputs": [],
   "source": [
    "data.columns"
   ]
  },
  {
   "cell_type": "markdown",
   "metadata": {},
   "source": [
    "为了降低内存，我们同样进行类型转换，\n",
    "* 将int64转换成int32\n",
    "* 将float64转换为float32"
   ]
  },
  {
   "cell_type": "code",
   "execution_count": null,
   "metadata": {
    "pycharm": {
     "is_executing": false,
     "name": "#%%\n"
    }
   },
   "outputs": [],
   "source": [
    "data = data.astype({'play_count': 'int32', 'duration': 'float32', 'artist_familiarity': 'float32',\n",
    "            'artist_hotttnesss': 'float32', 'year': 'int32', 'track_7digitalid': 'int32'})\n",
    "print(' ')"
   ]
  },
  {
   "cell_type": "code",
   "execution_count": null,
   "metadata": {
    "pycharm": {
     "is_executing": false,
     "name": "#%%\n"
    }
   },
   "outputs": [],
   "source": [
    "data.info()"
   ]
  },
  {
   "cell_type": "markdown",
   "metadata": {},
   "source": [
    "##### Step 3. 数据清洗\n",
    "* 去重\n",
    "* 丢掉无用信息\n",
    "\n",
    "实际上，有些信息我们比较肯定是无用的，比如\n",
    "* track_id\n",
    "* artist_id\n",
    "* artist_mbid\n",
    "* duration\n",
    "* track_7digitalid\n",
    "* shs_perf\n",
    "* shs_work\n",
    "\n",
    "我们主要利用评分矩阵进行召回和排序，上面的信息我们应该用不到。"
   ]
  },
  {
   "cell_type": "code",
   "execution_count": null,
   "metadata": {
    "pycharm": {
     "is_executing": false,
     "name": "#%%\n"
    }
   },
   "outputs": [],
   "source": [
    "# 去重\n",
    "data.drop_duplicates(inplace=True)\n",
    "# 丢掉无用信息\n",
    "data.drop(['track_id', 'artist_id', 'artist_mbid', 'duration', 'track_7digitalid', 'shs_perf', 'shs_work'], axis=1, inplace=True)"
   ]
  },
  {
   "cell_type": "code",
   "execution_count": null,
   "metadata": {
    "pycharm": {
     "is_executing": false,
     "name": "#%%\n"
    }
   },
   "outputs": [],
   "source": [
    "data.info()"
   ]
  },
  {
   "cell_type": "markdown",
   "metadata": {},
   "source": [
    "##### Step 4. 可视化\n",
    "\n",
    "这里，我们利用词云，直观看一下最受欢迎的歌手、专辑和歌曲。"
   ]
  },
  {
   "cell_type": "code",
   "execution_count": null,
   "metadata": {
    "pycharm": {
     "is_executing": false,
     "name": "#%%\n"
    }
   },
   "outputs": [],
   "source": [
    "data.head()"
   ]
  },
  {
   "cell_type": "code",
   "execution_count": null,
   "metadata": {
    "pycharm": {
     "is_executing": false,
     "name": "#%%\n"
    }
   },
   "outputs": [],
   "source": [
    "# 字典artist_playcounts记录每个歌手获得的点击量\n",
    "artist_playcounts = {}\n",
    "for artist, group in data.groupby('artist_name'):\n",
    "    artist_playcounts[artist] = group['play_count'].sum()\n",
    "\n",
    "# 作图\n",
    "plt.figure(figsize=(12, 8))\n",
    "wc = WordCloud(width=1000, height=800)\n",
    "wc.generate_from_frequencies(artist_playcounts)\n",
    "plt.imshow(wc)\n",
    "plt.axis('off')\n",
    "plt.show()"
   ]
  },
  {
   "cell_type": "code",
   "execution_count": null,
   "metadata": {
    "pycharm": {
     "is_executing": false,
     "name": "#%%\n"
    }
   },
   "outputs": [],
   "source": [
    "# 字典release_playcounts记录每个专辑获得的点击量\n",
    "release_playcounts = {}\n",
    "for release, group in data.groupby('release'):\n",
    "    release_playcounts[release] = group['play_count'].sum()\n",
    "\n",
    "# 作图\n",
    "plt.figure(figsize=(12, 8))\n",
    "wc = WordCloud(width=1000, height=800)\n",
    "wc.generate_from_frequencies(release_playcounts)\n",
    "plt.imshow(wc)\n",
    "plt.axis('off')\n",
    "plt.show()"
   ]
  },
  {
   "cell_type": "code",
   "execution_count": null,
   "metadata": {
    "pycharm": {
     "is_executing": false,
     "name": "#%%\n"
    }
   },
   "outputs": [],
   "source": [
    "# 字典song_playcounts记录每首歌获得的点击量\n",
    "song_playcounts = {}\n",
    "for song, group in data.groupby('title'):\n",
    "    song_playcounts[song] = group['play_count'].sum()\n",
    "\n",
    "# 作图\n",
    "plt.figure(figsize=(12, 8))\n",
    "wc = WordCloud(width=1000, height=800)\n",
    "wc.generate_from_frequencies(song_playcounts)\n",
    "plt.imshow(wc)\n",
    "plt.axis('off')\n",
    "plt.show()"
   ]
  },
  {
   "cell_type": "markdown",
   "metadata": {},
   "source": [
    "#### Part 2. 不同的推荐引擎\n",
    "\n",
    "对于系统的召回阶段，我们将给出如下三种推荐方式，分别是\n",
    "* 基于排行榜的推荐\n",
    "* 基于协同过滤的推荐\n",
    "* 基于矩阵分解的推荐"
   ]
  },
  {
   "cell_type": "markdown",
   "metadata": {},
   "source": [
    "##### Step 1. 基于排行榜的推荐\n",
    "我们将每首歌听过的人数作为每首歌的打分。\n",
    "这里之所以不将点击量作为打分，是因为一个人可能对一首歌多次点击，但这首歌其他人并不喜欢。"
   ]
  },
  {
   "cell_type": "code",
   "execution_count": null,
   "metadata": {
    "pycharm": {
     "is_executing": false,
     "name": "#%%\n"
    }
   },
   "outputs": [],
   "source": [
    "# 基于排行榜的推荐\n",
    "def recommendation_basedonPopularity(df, N=5):\n",
    "    my_df = df.copy()\n",
    "    # 字典song_peopleplay，记录每首歌听过的人数\n",
    "    song_peopleplay = {}\n",
    "    for song, group in my_df.groupby('title'):\n",
    "        song_peopleplay[song] = group['user'].count()\n",
    "    \n",
    "    # 根据人数从大到小排序，并推荐前N首歌\n",
    "    sorted_dict = sorted(song_peopleplay.items(), key=lambda x: x[1], reverse=True)[:N]\n",
    "    # 取出歌曲\n",
    "    return list(dict(sorted_dict).keys())\n",
    "\n",
    "# 测试推荐结果\n",
    "recommendation_basedonPopularity(data, N=5)"
   ]
  },
  {
   "cell_type": "markdown",
   "metadata": {},
   "source": [
    "##### Step 2. 基于协同过滤的推荐\n",
    "协同过滤需要用户-物品评分矩阵。\n",
    "这里，用户对某首歌的评分的计算公式如下，\n",
    "* 该用户的最大歌曲点击量\n",
    "* 当前歌曲点击量/最大歌曲点击量\n",
    "* 评分为log(2 + 上述比值)\n",
    "\n",
    "得到用户-物品评分矩阵之后，我们用surprise库中的knnbasic函数进行协同过滤。"
   ]
  },
  {
   "cell_type": "code",
   "execution_count": null,
   "metadata": {
    "pycharm": {
     "is_executing": false,
     "name": "#%%\n"
    }
   },
   "outputs": [],
   "source": [
    "(data['play_count'].min(), data['play_count'].max())"
   ]
  },
  {
   "cell_type": "code",
   "execution_count": null,
   "metadata": {
    "pycharm": {
     "is_executing": false,
     "name": "#%%\n"
    }
   },
   "outputs": [],
   "source": [
    "# 每个用户点击量的平均数\n",
    "user_averageScore = {}\n",
    "for user, group in data.groupby('user'):\n",
    "    user_averageScore[user] = group['play_count'].mean()"
   ]
  },
  {
   "cell_type": "code",
   "execution_count": null,
   "metadata": {
    "pycharm": {
     "is_executing": false,
     "name": "#%%\n"
    }
   },
   "outputs": [],
   "source": [
    "data['rating'] = data.apply(lambda x: np.log(2 + x.play_count / user_averageScore[x.user]), axis=1)"
   ]
  },
  {
   "cell_type": "code",
   "execution_count": null,
   "metadata": {
    "pycharm": {
     "is_executing": false,
     "name": "#%%\n"
    }
   },
   "outputs": [],
   "source": [
    "sns.distplot(data['rating'].values, bins=100)\n",
    "plt.show()"
   ]
  },
  {
   "cell_type": "code",
   "execution_count": null,
   "metadata": {
    "pycharm": {
     "is_executing": false,
     "name": "#%%\n"
    }
   },
   "outputs": [],
   "source": [
    "# 得到用户-音乐评分矩阵\n",
    "user_item_rating = data[['user', 'song', 'rating']]\n",
    "user_item_rating = user_item_rating.rename(columns={'song': 'item'})\n"
   ]
  },
  {
   "cell_type": "markdown",
   "metadata": {},
   "source": [
    "首先，我们做itemCF的推荐。"
   ]
  },
  {
   "cell_type": "code",
   "execution_count": null,
   "metadata": {
    "pycharm": {
     "is_executing": false,
     "name": "#%%\n"
    }
   },
   "outputs": [],
   "source": [
    "# itemCF\n",
    "\n",
    "# 阅读器\n",
    "reader = Reader(line_format='user item rating', sep=',')\n",
    "# 载入数据\n",
    "raw_data = Dataset.load_from_df(user_item_rating, reader=reader)\n",
    "# 分割数据集\n",
    "kf = KFold(n_splits=5)\n",
    "# 构建模型\n",
    "knn_itemcf = KNNBasic(k=40, sim_options={'user_based': False})\n",
    "# 训练数据集，并返回rmse误差\n",
    "for trainset, testset in kf.split(raw_data):\n",
    "    knn_itemcf.fit(trainset)\n",
    "    predictions = knn_itemcf.test(testset)\n",
    "    accuracy.rmse(predictions, verbose=True)\n",
    "  "
   ]
  },
  {
   "cell_type": "code",
   "execution_count": null,
   "metadata": {
    "pycharm": {
     "is_executing": false,
     "name": "#%%\n"
    }
   },
   "outputs": [],
   "source": [
    "#用户听过的歌曲集合\n",
    "user_songs = {}\n",
    "for user, group in user_item_rating.groupby('user'):\n",
    "    user_songs[user] = group['item'].values.tolist()\n",
    "\n",
    "# 歌曲集合\n",
    "songs = user_item_rating['item'].unique().tolist()\n",
    "\n",
    "# 歌曲id和歌曲名称对应关系\n",
    "songID_titles = {}\n",
    "for index in data.index:\n",
    "    songID_titles[data.loc[index, 'song']] = data.loc[index, 'title']   "
   ]
  },
  {
   "cell_type": "code",
   "execution_count": null,
   "metadata": {
    "pycharm": {
     "is_executing": false,
     "name": "#%%\n"
    }
   },
   "outputs": [],
   "source": [
    "user_item_rating.head()"
   ]
  },
  {
   "cell_type": "code",
   "execution_count": null,
   "metadata": {
    "pycharm": {
     "is_executing": false,
     "name": "#%%\n"
    }
   },
   "outputs": [],
   "source": [
    "# itemCF 推荐\n",
    "def recommendation_basedonItemCF(userID, N=5):\n",
    "    # 用户听过的音乐列表\n",
    "    used_items = user_songs[userID]\n",
    "    \n",
    "    # 用户对未听过音乐的评分\n",
    "    item_ratings = {}\n",
    "    for item in songs:\n",
    "        if item not in used_items:\n",
    "            item_ratings[item] = knn_itemcf.predict(userID, item).est\n",
    "    \n",
    "    # 找出评分靠前的5首歌曲\n",
    "    song_ids = dict(sorted(item_ratings.items(), key=lambda x: x[1], reverse=True)[:N])\n",
    "    song_topN = [songID_titles[s] for s in song_ids.keys()]\n",
    "    \n",
    "    return song_topN\n",
    "\n",
    "recommendation_basedonItemCF(29990)"
   ]
  },
  {
   "cell_type": "markdown",
   "metadata": {},
   "source": [
    "其次，我们做userCF的推荐。"
   ]
  },
  {
   "cell_type": "code",
   "execution_count": null,
   "metadata": {
    "pycharm": {
     "is_executing": false,
     "name": "#%%\n"
    }
   },
   "outputs": [],
   "source": [
    "# userCF\n",
    "\n",
    "# 阅读器\n",
    "reader = Reader(line_format='user item rating', sep=',')\n",
    "# 载入数据\n",
    "raw_data = Dataset.load_from_df(user_item_rating, reader=reader)\n",
    "# 分割数据集\n",
    "kf = KFold(n_splits=5)\n",
    "# 构建模型\n",
    "knn_usercf = KNNBasic(k=40, sim_options={'user_based': True})\n",
    "# 训练数据集，并返回rmse误差\n",
    "for trainset, testset in kf.split(raw_data):\n",
    "    knn_usercf.fit(trainset)\n",
    "    predictions = knn_usercf.test(testset)\n",
    "    accuracy.rmse(predictions, verbose=True)"
   ]
  },
  {
   "cell_type": "code",
   "execution_count": null,
   "metadata": {
    "pycharm": {
     "is_executing": false,
     "name": "#%%\n"
    }
   },
   "outputs": [],
   "source": []
  },
  {
   "cell_type": "code",
   "execution_count": null,
   "metadata": {
    "pycharm": {
     "is_executing": false,
     "name": "#%%\n"
    }
   },
   "outputs": [],
   "source": [
    "# userCF 推荐\n",
    "def recommendation_basedonUserCF(userID, N=5):\n",
    "    # 用户听过的音乐列表\n",
    "    used_items = user_songs[userID]\n",
    "    \n",
    "    # 用户对未听过音乐的评分\n",
    "    item_ratings = {}\n",
    "    for item in songs:\n",
    "        if item not in used_items:\n",
    "            item_ratings[item] = knn_usercf.predict(userID, item).est\n",
    "    \n",
    "    # 找出评分靠前的5首歌曲\n",
    "    song_ids = dict(sorted(item_ratings.items(), key=lambda x: x[1], reverse=True)[:N])\n",
    "    song_topN = [songID_titles[s] for s in song_ids.keys()]\n",
    "    \n",
    "    return song_topN\n",
    "\n",
    "recommendation_basedonUserCF(29990)"
   ]
  },
  {
   "cell_type": "markdown",
   "metadata": {},
   "source": [
    "##### Step 3. 基于矩阵分解的推荐\n",
    "矩阵分解同样需要用户-物品评分矩阵。\n",
    "我们依然沿用上面的评分矩阵进行预测。\n",
    "同样的，我们用surprise库里面的SVD来进行矩阵分解方法。"
   ]
  },
  {
   "cell_type": "code",
   "execution_count": null,
   "metadata": {
    "pycharm": {
     "is_executing": false,
     "name": "#%%\n"
    }
   },
   "outputs": [],
   "source": [
    "# 矩阵分解（SVD）\n",
    "\n",
    "# 阅读器\n",
    "reader = Reader(line_format='user item rating', sep=',')\n",
    "# 载入数据\n",
    "raw_data = Dataset.load_from_df(user_item_rating, reader=reader)\n",
    "# 分割数据集\n",
    "kf = KFold(n_splits=5)\n",
    "# 构建模型\n",
    "algo = SVD(n_factors=40, biased=True)\n",
    "# 训练数据集，并返回rmse误差\n",
    "for trainset, testset in kf.split(raw_data):\n",
    "    algo.fit(trainset)\n",
    "    predictions = algo.test(testset)\n",
    "    accuracy.rmse(predictions, verbose=True)"
   ]
  },
  {
   "cell_type": "code",
   "execution_count": null,
   "metadata": {
    "pycharm": {
     "is_executing": false,
     "name": "#%%\n"
    }
   },
   "outputs": [],
   "source": [
    "# 矩阵分解 推荐\n",
    "def recommendation_basedonMF(userID, N=5):\n",
    "    # 用户听过的音乐列表\n",
    "    used_items = user_songs[userID]\n",
    "    \n",
    "    # 用户对未听过音乐的评分\n",
    "    item_ratings = {}\n",
    "    for item in songs:\n",
    "        if item not in used_items:\n",
    "            item_ratings[item] = algo.predict(userID, item).est\n",
    "    \n",
    "    # 找出评分靠前的5首歌曲\n",
    "    song_ids = dict(sorted(item_ratings.items(), key=lambda x: x[1], reverse=True)[:N])\n",
    "    song_topN = song_ids\n",
    "    \n",
    "    return song_topN\n",
    "\n",
    "recommendation_basedonMF(29990)"
   ]
  },
  {
   "cell_type": "markdown",
   "metadata": {},
   "source": [
    "#### Part 3. 推荐系统的排序\n",
    "\n",
    "对于系统的排序阶段，我们通常是这样的，\n",
    "* 以召回阶段的输出作为输入\n",
    "* 用CTR预估作为进一步的排序标准\n",
    "\n",
    "这里，我们可以召回50首音乐，用GBDT+LR对这些音乐做ctr预估，给出评分排序，选出5首歌曲。\n",
    "\n",
    "现在，仅仅用用户-物品评分是不够的，因为我们需要考虑特征之间的组合。为此，我们用之前的data数据。"
   ]
  },
  {
   "cell_type": "markdown",
   "metadata": {},
   "source": [
    "这里的数据处理思路是，\n",
    "* 复制一份新的数据，命名为new_data\n",
    "* 去掉title列，因为它不需要参与特征组合\n",
    "* 对其余object列进行labelencoder编码\n",
    "* **根据rating列数值情况，为了样本的正负均衡，我们令rating小于0.7的为0，也就是不喜欢，令rating大于0.7的为1，也就是喜欢**\n",
    "* 将new_data按照0.5的比例分成两份，一份给gbdt作为训练集，一份给lr作为训练集"
   ]
  },
  {
   "cell_type": "code",
   "execution_count": null,
   "metadata": {
    "pycharm": {
     "is_executing": false,
     "name": "#%%\n"
    }
   },
   "outputs": [],
   "source": [
    "# 复制原data数据\n",
    "rank_data = data.copy()\n",
    "# 去掉无用的title列\n",
    "rank_data.drop('title', axis=1, inplace=True)\n",
    "\n",
    "# 将object类型数据用labelencoder编码\n",
    "release_encoder = LabelEncoder()\n",
    "rank_data['release'] = release_encoder.fit_transform(rank_data['release'].values)\n",
    "\n",
    "artist_name_encoder = LabelEncoder()\n",
    "rank_data['artist_name'] = artist_name_encoder.fit_transform(rank_data['artist_name'].values)\n",
    "\n",
    "# 根据rating的取值，更新rating值\n",
    "rank_data['rating'] = rank_data['rating'].apply(lambda x: 0 if x < 0.7 else 1)\n",
    "\n",
    "rank_data.head()"
   ]
  },
  {
   "cell_type": "markdown",
   "metadata": {},
   "source": [
    "###### Step 1. GBDT+LR预估\n",
    "这里，我们做一个ctr点击预估，将点击概率作为权重，与rating结合，作为最终的评分。\n",
    "为了做这个，我们需要\n",
    "* 分割数据集，一部分作为GBDT的训练集，一部分作为LR的训练集\n",
    "* 先训练GBDT，将其结果作为输入，送进LR里面，再生成结果\n",
    "* 最后看AUC指标\n",
    "\n",
    "为了加快训练速度，我们从new_data的90多万条数据中，取出20万条作为训练数据。"
   ]
  },
  {
   "cell_type": "code",
   "execution_count": null,
   "metadata": {
    "pycharm": {
     "is_executing": false,
     "name": "#%%\n"
    }
   },
   "outputs": [],
   "source": []
  },
  {
   "cell_type": "code",
   "execution_count": null,
   "metadata": {
    "pycharm": {
     "is_executing": false,
     "name": "#%%\n"
    }
   },
   "outputs": [],
   "source": [
    "# 取出20%的数据作为数据集\n",
    "small_data = rank_data.sample(frac=0.2)\n",
    "# 将数据集分成gbdt训练街和lr训练集\n",
    "X_gbdt, X_lr, y_gbdt, y_lr = train_test_split(small_data.iloc[:, :-1].values, small_data.iloc[:, -1].values, test_size=0.5)"
   ]
  },
  {
   "cell_type": "code",
   "execution_count": null,
   "metadata": {
    "pycharm": {
     "is_executing": false,
     "name": "#%%\n"
    }
   },
   "outputs": [],
   "source": [
    "depth = 3\n",
    "n_estimator = 50\n",
    "\n",
    "print('当前n_estimators=', n_estimator)\n",
    "# 训练gbdt\n",
    "gbdt = GradientBoostingClassifier(n_estimators=n_estimator, max_depth=depth, min_samples_split=3, min_samples_leaf=2)\n",
    "gbdt.fit(X_gbdt, y_gbdt)\n",
    "\n",
    "print('当前gbdt训练完成！')\n",
    "\n",
    "# one-hot编码\n",
    "onehot = OneHotEncoder()\n",
    "onehot.fit(gbdt.apply(X_gbdt).reshape(-1, n_estimator))\n",
    "\n",
    "# 对gbdt结果进行one-hot编码，然后训练lr\n",
    "lr = LogisticRegression()\n",
    "lr.fit(onehot.transform(gbdt.apply(X_lr).reshape(-1, n_estimator)), y_lr)\n",
    "\n",
    "print('当前lr训练完成！')\n",
    "\n",
    "# 用auc作为指标\n",
    "lr_pred = lr.predict(onehot.transform(gbdt.apply(X_lr).reshape(-1, n_estimator)))\n",
    "auc_score = roc_auc_score(y_lr, lr_pred)\n",
    "\n",
    "print('当前n_estimators和auc分别为', n_estimator, auc_score)\n",
    "print('#'*40)"
   ]
  },
  {
   "cell_type": "markdown",
   "metadata": {},
   "source": [
    "###### Step 2. 排序\n",
    "这里，我们通过svd召回50首歌，然后根据gbdt+lr的结果做权重，给它们做排序，选出其中的5首歌作为推荐结果。"
   ]
  },
  {
   "cell_type": "code",
   "execution_count": null,
   "metadata": {
    "pycharm": {
     "is_executing": false,
     "name": "#%%\n"
    }
   },
   "outputs": [],
   "source": [
    "# 推荐\n",
    "def recommendation(userID):\n",
    "    # 召回50首歌\n",
    "    recall = recommendation_basedonMF(userID, 50)\n",
    "    #print(recall)\n",
    "    \n",
    "    print('召回完毕！')\n",
    "    \n",
    "    # 根据召回的歌曲信息，写出特征向量\n",
    "    feature_lines = []\n",
    "    for song in recall.keys():\n",
    "        feature = rank_data[rank_data.song==song].values[0]\n",
    "        # 出去其中的rating，将user数值改成当前userID\n",
    "        feature = feature[:-1]\n",
    "        feature[0] = userID\n",
    "        # 放入特征向量中\n",
    "        feature_lines.append(feature)\n",
    "    \n",
    "    # 用gbdt+lr计算权重\n",
    "    weights = lr.predict_proba(onehot.transform(gbdt.apply(feature_lines).reshape(-1, n_estimator)))[:, 1]\n",
    "    \n",
    "    #print(weights.shape)\n",
    "    print('排序权重计算完毕！')\n",
    "    \n",
    "    # 计算最终得分\n",
    "    score = {}\n",
    "    i = 0\n",
    "    for song in recall.keys():\n",
    "        score[song] = recall[song] * weights[i]\n",
    "        i += 1\n",
    "    \n",
    "    #print(score)\n",
    "    \n",
    "    # 选出排名前5的歌曲id\n",
    "    song_ids = dict(sorted(score.items(), key=lambda x: x[1], reverse=True)[: 5])\n",
    "    # 前5歌曲名称\n",
    "    song_topN = [songID_titles[s] for s in song_ids.keys()]\n",
    "    \n",
    "    print('最终推荐列表为')\n",
    "    \n",
    "    return song_topN\n",
    "\n",
    "# 测试\n",
    "recommendation(29990)"
   ]
  },
  {
   "cell_type": "code",
   "execution_count": null,
   "metadata": {
    "pycharm": {
     "is_executing": false,
     "name": "#%%\n"
    }
   },
   "outputs": [],
   "source": [
    "# data[rank_data.user==29990]['title']"
   ]
  },
  {
   "cell_type": "code",
   "execution_count": null,
   "metadata": {
    "pycharm": {
     "is_executing": false,
     "name": "#%%\n"
    }
   },
   "outputs": [],
   "source": []
  }
 ],
 "metadata": {
  "kernelspec": {
   "display_name": "Python 3 (ipykernel)",
   "language": "python",
   "name": "python3"
  },
  "language_info": {
   "codemirror_mode": {
    "name": "ipython",
    "version": 3
   },
   "file_extension": ".py",
   "mimetype": "text/x-python",
   "name": "python",
   "nbconvert_exporter": "python",
   "pygments_lexer": "ipython3",
   "version": "3.7.2"
  },
  "pycharm": {
   "stem_cell": {
    "cell_type": "raw",
    "metadata": {
     "collapsed": false
    },
    "source": []
   }
  }
 },
 "nbformat": 4,
 "nbformat_minor": 1
}
