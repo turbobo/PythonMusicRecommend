{
 "cells": [
  {
   "cell_type": "code",
   "execution_count": null,
   "metadata": {
    "collapsed": true,
    "pycharm": {
     "is_executing": true
    }
   },
   "outputs": [],
   "source": [
    "import tensorflow as tf\n",
    "import pandas as pd\n",
    "import sqlite3\n",
    "from sklearn.metrics import mean_squared_error\n",
    "from sklearn.metrics import mean_absolute_error\n",
    "from sklearn.model_selection import train_test_split\n",
    "from sklearn.preprocessing import LabelEncoder\n",
    "\n",
    "# from deepctr.feature_column import get_feature_names\n",
    "from tensorflow.python.keras.models import Model\n",
    "from tensorflow.python.keras.layers import Lambda\n",
    "\n",
    "# from tensorflow.python.keras.optimizers import Adam,Adagrad\n",
    "from tensorflow.python.keras.callbacks import EarlyStopping\n",
    "\n",
    "from deepctr.models import DeepFM\n",
    "from deepctr.feature_column import SparseFeat, get_feature_names\n",
    "# from tensorflow.python.keras.KerasTensor\n",
    "\n",
    "# 原因是 tf.keras 会引用独立的 keras 包；\n",
    "# 而与 tensorflow.python.keras 产生冲突。\n",
    "# 具体而言，keras 的 input 会生成并使用 node 属性；\n",
    "# 而 tensorflow.python.keras 里的并不需要。\n",
    "# 通过 debug 可以发现这个问题，正在考虑提 pull request。\n",
    "\n",
    "# Keras == 2.3.1 和 tensorflow==2.2.0  2.7.0\n",
    "# 卸载 Keras==2.7.0 和 tensorflow==2.7.0\n",
    "\n",
    "\n",
    "# 解决一个简单的二元回归任务\n",
    "# if __name__ == \"__main__\":"
   ]
  },
  {
   "cell_type": "code",
   "execution_count": null,
   "metadata": {
    "pycharm": {
     "name": "#%%\n"
    }
   },
   "outputs": [],
   "source": [
    "rating = pd.read_csv(\"../data/metadata/user_item_rating_all_200w.csv\")\n",
    "rating.info(verbose=True, max_cols=True, memory_usage=True, null_counts=True)"
   ]
  },
  {
   "cell_type": "code",
   "execution_count": null,
   "metadata": {
    "pycharm": {
     "name": "#%%\n"
    }
   },
   "outputs": [],
   "source": [
    "track_all_200w = pd.read_csv(\"../data/metadata/track_all_200w.csv\")\n",
    "track_all_200w.info(verbose=True, max_cols=True, memory_usage=True, null_counts=True)\n",
    "track_all_200w.drop_duplicates(subset=['song'],keep='first',inplace=True)\n",
    "track_all_200w.info(verbose=True, max_cols=True, memory_usage=True, null_counts=True)\n"
   ]
  },
  {
   "cell_type": "code",
   "execution_count": null,
   "metadata": {
    "pycharm": {
     "name": "#%%\n"
    }
   },
   "outputs": [],
   "source": [
    "conn = sqlite3.connect('../db/track_metadata.db')\n",
    "cur = conn.cursor()\n",
    "cur.execute(\"SELECT name FROM sqlite_master WHERE type='table'\")\n",
    "cur.fetchall()\n",
    "#\n",
    "# # 获得数据的dataframe\n",
    "track_metadata_df = pd.read_sql(con=conn, sql='select * from songs')\n",
    "track_metadata_df = track_metadata_df[['track_id','duration']]\n",
    "track_metadata_df.info(verbose=True, max_cols=True, memory_usage=True, null_counts=True)"
   ]
  },
  {
   "cell_type": "code",
   "execution_count": null,
   "metadata": {
    "pycharm": {
     "name": "#%%\n"
    }
   },
   "outputs": [],
   "source": [
    "songs = pd.merge(track_all_200w,track_metadata_df,how='inner',on=\"track_id\")\n",
    "songs = songs[['song','artist_hotttnesss','year','duration']]\n",
    "songs.info(verbose=True, max_cols=True, memory_usage=True, null_counts=True)\n",
    "\n",
    "# 去重duration为空，为0\n",
    "songs = songs.dropna(subset=['duration'])\n",
    "songs = songs[songs.duration != 0]\n",
    "print('duration***********************')\n",
    "songs.info(verbose=True, max_cols=True, memory_usage=True, null_counts=True)\n"
   ]
  },
  {
   "cell_type": "code",
   "execution_count": null,
   "metadata": {
    "pycharm": {
     "name": "#%%\n"
    }
   },
   "outputs": [],
   "source": [
    "data = pd.merge(rating,songs,how='inner',on=\"song\")\n",
    "data.info(verbose=True, max_cols=True, memory_usage=True, null_counts=True)\n",
    "\n",
    "n_users = data.user.unique().shape[0]\n",
    "n_songs = data.song.unique().shape[0]\n",
    "\n",
    "print('Number of users: {}'.format(n_users))\n",
    "print('Number of songs: {}'.format(n_songs))\n",
    "print('Sparsity: {:4.3f}%'.format(float(data.shape[0]) / float(n_users*n_songs) * 100))\n",
    "\n",
    "del(songs)\n",
    "del(rating)\n",
    "del(track_all_200w)\n",
    "del(track_metadata_df)"
   ]
  },
  {
   "cell_type": "code",
   "execution_count": null,
   "metadata": {
    "pycharm": {
     "name": "#%%\n"
    }
   },
   "outputs": [],
   "source": [
    "sparse_features = [\"song\", \"user\",\n",
    "                   \"artist_hotttnesss\", \"year\", 'duration']\n",
    "target = ['rating']\n",
    "\n",
    "# 1.对稀疏特征进行标签编码，对密集特征进行简单变换\n",
    "for feat in sparse_features:\n",
    "    lbe = LabelEncoder()\n",
    "    data[feat] = lbe.fit_transform(data[feat])\n",
    "# 2.统计每个稀疏字段的#唯一特征，并记录密集特征字段名称\n",
    "fixlen_feature_columns = [SparseFeat(feat, data[feat].max() + 1, embedding_dim=4)\n",
    "                          for feat in sparse_features]\n",
    "# 输入到FM的特征 -- 记忆能力，例如：历史点击数据，曝光数据\n",
    "linear_feature_columns = fixlen_feature_columns\n",
    "# 输入到Deep部分的特征  -- 泛化能力，例如：视频类型，用户年龄等内容特征\n",
    "dnn_feature_columns = fixlen_feature_columns\n",
    "\n",
    "feature_names = get_feature_names(linear_feature_columns + dnn_feature_columns)\n",
    "\n",
    "# 3.为模型生成输入数据\n",
    "train, test = train_test_split(data, test_size=0.2, random_state=2020)\n",
    "train_model_input = {name: train[name].values for name in feature_names}\n",
    "test_model_input = {name: test[name].values for name in feature_names}\n",
    "\n",
    "# 4.定义模型、训练、预测和评估\n",
    "model = DeepFM(linear_feature_columns, dnn_feature_columns, task='regression')\n",
    "model.compile(\"adam\", \"mse\", metrics=['mse','mae'], )\n",
    "\n",
    "history = model.fit(train_model_input, train[target].values,\n",
    "                    batch_size=256, epochs=10, verbose=2, validation_split=0.2, )\n",
    "pred_ans = model.predict(test_model_input, batch_size=256)\n",
    "print(\"test MSE\", round(mean_squared_error(\n",
    "    test[target].values, pred_ans), 6))\n",
    "print(\"test MAE\", round(mean_absolute_error(\n",
    "    test[target].values, pred_ans), 6))\n",
    "\n",
    "print('结束**********************')\n"
   ]
  }
 ],
 "metadata": {
  "kernelspec": {
   "display_name": "Python 3 (ipykernel)",
   "language": "python",
   "name": "python3"
  },
  "language_info": {
   "codemirror_mode": {
    "name": "ipython",
    "version": 3
   },
   "file_extension": ".py",
   "mimetype": "text/x-python",
   "name": "python",
   "nbconvert_exporter": "python",
   "pygments_lexer": "ipython3",
   "version": "3.7.2"
  },
  "pycharm": {
   "stem_cell": {
    "cell_type": "raw",
    "metadata": {
     "collapsed": false
    },
    "source": []
   }
  }
 },
 "nbformat": 4,
 "nbformat_minor": 1
}
