{
 "cells": [
  {
   "cell_type": "code",
   "execution_count": null,
   "metadata": {
    "id": "a4ebKNkQb-e8"
   },
   "outputs": [],
   "source": [
    "# from google.colab import drive\n",
    "# drive.mount('/content/drive')"
   ]
  },
  {
   "cell_type": "code",
   "execution_count": 1,
   "metadata": {
    "id": "w7QKA0ZdpSOa",
    "pycharm": {
     "is_executing": false
    }
   },
   "outputs": [],
   "source": [
    "import pandas as pd\n",
    "import numpy as np\n",
    "import torch\n",
    "\n",
    "from collections import namedtuple\n",
    "from itertools import chain\n",
    "from sklearn.preprocessing import StandardScaler\n",
    "from sklearn.model_selection import train_test_split\n",
    "from sklearn.metrics import mean_absolute_error, mean_squared_error\n",
    "\n",
    "import torch.autograd as autograd\n",
    "import torch.nn as nn\n",
    "import torch.nn.functional as F\n",
    "import torch.optim as optim\n",
    "from torch.autograd import Variable\n",
    "from torch.utils.data import Dataset, DataLoader\n",
    "from sklearn.preprocessing import LabelEncoder, OneHotEncoder\n",
    "import seaborn as sns\n",
    "\n",
    "import matplotlib.pyplot as plt\n",
    "%matplotlib inline"
   ]
  },
  {
   "cell_type": "code",
   "execution_count": null,
   "metadata": {
    "cellView": "code",
    "colab": {
     "base_uri": "https://localhost:8080/"
    },
    "executionInfo": {
     "elapsed": 3520,
     "status": "ok",
     "timestamp": 1640360919030,
     "user": {
      "displayName": "bo turbo",
      "photoUrl": "https://lh3.googleusercontent.com/a-/AOh14GgxmV8SoWvvAWwa1vJ_18oeD3h1vkWk3iEI0_zm=s64",
      "userId": "10121278098039451445"
     },
     "user_tz": -480
    },
    "id": "Zc11fLtaGG-E",
    "outputId": "0010c6e0-ee83-4217-d72e-26435e7111c2"
   },
   "outputs": [
    {
     "name": "stdout",
     "output_type": "stream",
     "text": [
      "<class 'pandas.core.frame.DataFrame'>\n",
      "RangeIndex: 2052374 entries, 0 to 2052373\n",
      "Data columns (total 3 columns):\n",
      " #   Column  Non-Null Count    Dtype  \n",
      "---  ------  --------------    -----  \n",
      " 0   user    2052374 non-null  int64  \n",
      " 1   song    2052374 non-null  int64  \n",
      " 2   rating  2052374 non-null  float64\n",
      "dtypes: float64(1), int64(2)\n",
      "memory usage: 47.0 MB\n",
      "<class 'pandas.core.frame.DataFrame'>\n",
      "RangeIndex: 2052374 entries, 0 to 2052373\n",
      "Data columns (total 10 columns):\n",
      " #   Column              Non-Null Count    Dtype  \n",
      "---  ------              --------------    -----  \n",
      " 0   user                2052374 non-null  int64  \n",
      " 1   song                2052374 non-null  int64  \n",
      " 2   play_count          2052374 non-null  int64  \n",
      " 3   track_id            2052374 non-null  object \n",
      " 4   title               2052369 non-null  object \n",
      " 5   release             2052374 non-null  object \n",
      " 6   artist_name         2052374 non-null  object \n",
      " 7   artist_familiarity  2052374 non-null  float64\n",
      " 8   artist_hotttnesss   2052374 non-null  float64\n",
      " 9   year                2052374 non-null  int64  \n",
      "dtypes: float64(2), int64(4), object(4)\n",
      "memory usage: 156.6+ MB\n"
     ]
    },
    {
     "data": {
      "text/html": [
       "\n",
       "  <div id=\"df-2b7c08eb-b5ae-4622-aa0e-7544b72166e1\">\n",
       "    <div class=\"colab-df-container\">\n",
       "      <div>\n",
       "<style scoped>\n",
       "    .dataframe tbody tr th:only-of-type {\n",
       "        vertical-align: middle;\n",
       "    }\n",
       "\n",
       "    .dataframe tbody tr th {\n",
       "        vertical-align: top;\n",
       "    }\n",
       "\n",
       "    .dataframe thead th {\n",
       "        text-align: right;\n",
       "    }\n",
       "</style>\n",
       "<table border=\"1\" class=\"dataframe\">\n",
       "  <thead>\n",
       "    <tr style=\"text-align: right;\">\n",
       "      <th></th>\n",
       "      <th>user</th>\n",
       "      <th>song</th>\n",
       "      <th>play_count</th>\n",
       "      <th>track_id</th>\n",
       "      <th>title</th>\n",
       "      <th>release</th>\n",
       "      <th>artist_name</th>\n",
       "      <th>artist_familiarity</th>\n",
       "      <th>artist_hotttnesss</th>\n",
       "      <th>year</th>\n",
       "    </tr>\n",
       "  </thead>\n",
       "  <tbody>\n",
       "    <tr>\n",
       "      <th>0</th>\n",
       "      <td>29990</td>\n",
       "      <td>3209</td>\n",
       "      <td>1</td>\n",
       "      <td>TRIQAUQ128F42435AD</td>\n",
       "      <td>The Cove</td>\n",
       "      <td>Thicker Than Water</td>\n",
       "      <td>Jack Johnson</td>\n",
       "      <td>0.832012</td>\n",
       "      <td>0.677482</td>\n",
       "      <td>0</td>\n",
       "    </tr>\n",
       "    <tr>\n",
       "      <th>1</th>\n",
       "      <td>20160</td>\n",
       "      <td>3209</td>\n",
       "      <td>1</td>\n",
       "      <td>TRIQAUQ128F42435AD</td>\n",
       "      <td>The Cove</td>\n",
       "      <td>Thicker Than Water</td>\n",
       "      <td>Jack Johnson</td>\n",
       "      <td>0.832012</td>\n",
       "      <td>0.677482</td>\n",
       "      <td>0</td>\n",
       "    </tr>\n",
       "    <tr>\n",
       "      <th>2</th>\n",
       "      <td>19083</td>\n",
       "      <td>3209</td>\n",
       "      <td>3</td>\n",
       "      <td>TRIQAUQ128F42435AD</td>\n",
       "      <td>The Cove</td>\n",
       "      <td>Thicker Than Water</td>\n",
       "      <td>Jack Johnson</td>\n",
       "      <td>0.832012</td>\n",
       "      <td>0.677482</td>\n",
       "      <td>0</td>\n",
       "    </tr>\n",
       "    <tr>\n",
       "      <th>3</th>\n",
       "      <td>5860</td>\n",
       "      <td>3209</td>\n",
       "      <td>1</td>\n",
       "      <td>TRIQAUQ128F42435AD</td>\n",
       "      <td>The Cove</td>\n",
       "      <td>Thicker Than Water</td>\n",
       "      <td>Jack Johnson</td>\n",
       "      <td>0.832012</td>\n",
       "      <td>0.677482</td>\n",
       "      <td>0</td>\n",
       "    </tr>\n",
       "    <tr>\n",
       "      <th>4</th>\n",
       "      <td>10262</td>\n",
       "      <td>3209</td>\n",
       "      <td>6</td>\n",
       "      <td>TRIQAUQ128F42435AD</td>\n",
       "      <td>The Cove</td>\n",
       "      <td>Thicker Than Water</td>\n",
       "      <td>Jack Johnson</td>\n",
       "      <td>0.832012</td>\n",
       "      <td>0.677482</td>\n",
       "      <td>0</td>\n",
       "    </tr>\n",
       "    <tr>\n",
       "      <th>...</th>\n",
       "      <td>...</td>\n",
       "      <td>...</td>\n",
       "      <td>...</td>\n",
       "      <td>...</td>\n",
       "      <td>...</td>\n",
       "      <td>...</td>\n",
       "      <td>...</td>\n",
       "      <td>...</td>\n",
       "      <td>...</td>\n",
       "      <td>...</td>\n",
       "    </tr>\n",
       "    <tr>\n",
       "      <th>2052369</th>\n",
       "      <td>7683</td>\n",
       "      <td>91997</td>\n",
       "      <td>1</td>\n",
       "      <td>TRUHAMV128E078E018</td>\n",
       "      <td>My How The Time Goes By</td>\n",
       "      <td>The Best Of The Fourmost</td>\n",
       "      <td>The Fourmost</td>\n",
       "      <td>0.457509</td>\n",
       "      <td>0.352143</td>\n",
       "      <td>1992</td>\n",
       "    </tr>\n",
       "    <tr>\n",
       "      <th>2052370</th>\n",
       "      <td>7683</td>\n",
       "      <td>92203</td>\n",
       "      <td>4</td>\n",
       "      <td>TREMXLV128F92F202E</td>\n",
       "      <td>You Follow Me</td>\n",
       "      <td>Loose &amp; Juicy</td>\n",
       "      <td>James Moody</td>\n",
       "      <td>0.519558</td>\n",
       "      <td>0.402892</td>\n",
       "      <td>0</td>\n",
       "    </tr>\n",
       "    <tr>\n",
       "      <th>2052371</th>\n",
       "      <td>7683</td>\n",
       "      <td>98789</td>\n",
       "      <td>2</td>\n",
       "      <td>TRTCYIO128F933A649</td>\n",
       "      <td>Cell</td>\n",
       "      <td>Strange In Stereo</td>\n",
       "      <td>In The Woods</td>\n",
       "      <td>0.573120</td>\n",
       "      <td>0.456013</td>\n",
       "      <td>1999</td>\n",
       "    </tr>\n",
       "    <tr>\n",
       "      <th>2052372</th>\n",
       "      <td>7683</td>\n",
       "      <td>137669</td>\n",
       "      <td>5</td>\n",
       "      <td>TRVUXXA128F930B25E</td>\n",
       "      <td>Johanna</td>\n",
       "      <td>Back to the Noise</td>\n",
       "      <td>Iggy &amp; The Stooges</td>\n",
       "      <td>0.732603</td>\n",
       "      <td>0.486804</td>\n",
       "      <td>1981</td>\n",
       "    </tr>\n",
       "    <tr>\n",
       "      <th>2052373</th>\n",
       "      <td>14759</td>\n",
       "      <td>34682</td>\n",
       "      <td>1</td>\n",
       "      <td>TROCEEK128F9335F02</td>\n",
       "      <td>Quem Vem Pra Beira do Mar</td>\n",
       "      <td>Free Bossa</td>\n",
       "      <td>Nouvelle</td>\n",
       "      <td>0.631482</td>\n",
       "      <td>0.000000</td>\n",
       "      <td>2000</td>\n",
       "    </tr>\n",
       "  </tbody>\n",
       "</table>\n",
       "<p>2052374 rows × 10 columns</p>\n",
       "</div>\n",
       "      <button class=\"colab-df-convert\" onclick=\"convertToInteractive('df-2b7c08eb-b5ae-4622-aa0e-7544b72166e1')\"\n",
       "              title=\"Convert this dataframe to an interactive table.\"\n",
       "              style=\"display:none;\">\n",
       "        \n",
       "  <svg xmlns=\"http://www.w3.org/2000/svg\" height=\"24px\"viewBox=\"0 0 24 24\"\n",
       "       width=\"24px\">\n",
       "    <path d=\"M0 0h24v24H0V0z\" fill=\"none\"/>\n",
       "    <path d=\"M18.56 5.44l.94 2.06.94-2.06 2.06-.94-2.06-.94-.94-2.06-.94 2.06-2.06.94zm-11 1L8.5 8.5l.94-2.06 2.06-.94-2.06-.94L8.5 2.5l-.94 2.06-2.06.94zm10 10l.94 2.06.94-2.06 2.06-.94-2.06-.94-.94-2.06-.94 2.06-2.06.94z\"/><path d=\"M17.41 7.96l-1.37-1.37c-.4-.4-.92-.59-1.43-.59-.52 0-1.04.2-1.43.59L10.3 9.45l-7.72 7.72c-.78.78-.78 2.05 0 2.83L4 21.41c.39.39.9.59 1.41.59.51 0 1.02-.2 1.41-.59l7.78-7.78 2.81-2.81c.8-.78.8-2.07 0-2.86zM5.41 20L4 18.59l7.72-7.72 1.47 1.35L5.41 20z\"/>\n",
       "  </svg>\n",
       "      </button>\n",
       "      \n",
       "  <style>\n",
       "    .colab-df-container {\n",
       "      display:flex;\n",
       "      flex-wrap:wrap;\n",
       "      gap: 12px;\n",
       "    }\n",
       "\n",
       "    .colab-df-convert {\n",
       "      background-color: #E8F0FE;\n",
       "      border: none;\n",
       "      border-radius: 50%;\n",
       "      cursor: pointer;\n",
       "      display: none;\n",
       "      fill: #1967D2;\n",
       "      height: 32px;\n",
       "      padding: 0 0 0 0;\n",
       "      width: 32px;\n",
       "    }\n",
       "\n",
       "    .colab-df-convert:hover {\n",
       "      background-color: #E2EBFA;\n",
       "      box-shadow: 0px 1px 2px rgba(60, 64, 67, 0.3), 0px 1px 3px 1px rgba(60, 64, 67, 0.15);\n",
       "      fill: #174EA6;\n",
       "    }\n",
       "\n",
       "    [theme=dark] .colab-df-convert {\n",
       "      background-color: #3B4455;\n",
       "      fill: #D2E3FC;\n",
       "    }\n",
       "\n",
       "    [theme=dark] .colab-df-convert:hover {\n",
       "      background-color: #434B5C;\n",
       "      box-shadow: 0px 1px 3px 1px rgba(0, 0, 0, 0.15);\n",
       "      filter: drop-shadow(0px 1px 2px rgba(0, 0, 0, 0.3));\n",
       "      fill: #FFFFFF;\n",
       "    }\n",
       "  </style>\n",
       "\n",
       "      <script>\n",
       "        const buttonEl =\n",
       "          document.querySelector('#df-2b7c08eb-b5ae-4622-aa0e-7544b72166e1 button.colab-df-convert');\n",
       "        buttonEl.style.display =\n",
       "          google.colab.kernel.accessAllowed ? 'block' : 'none';\n",
       "\n",
       "        async function convertToInteractive(key) {\n",
       "          const element = document.querySelector('#df-2b7c08eb-b5ae-4622-aa0e-7544b72166e1');\n",
       "          const dataTable =\n",
       "            await google.colab.kernel.invokeFunction('convertToInteractive',\n",
       "                                                     [key], {});\n",
       "          if (!dataTable) return;\n",
       "\n",
       "          const docLinkHtml = 'Like what you see? Visit the ' +\n",
       "            '<a target=\"_blank\" href=https://colab.research.google.com/notebooks/data_table.ipynb>data table notebook</a>'\n",
       "            + ' to learn more about interactive tables.';\n",
       "          element.innerHTML = '';\n",
       "          dataTable['output_type'] = 'display_data';\n",
       "          await google.colab.output.renderOutput(dataTable, element);\n",
       "          const docLink = document.createElement('div');\n",
       "          docLink.innerHTML = docLinkHtml;\n",
       "          element.appendChild(docLink);\n",
       "        }\n",
       "      </script>\n",
       "    </div>\n",
       "  </div>\n",
       "  "
      ],
      "text/plain": [
       "          user    song  play_count  ... artist_familiarity artist_hotttnesss  year\n",
       "0        29990    3209           1  ...           0.832012          0.677482     0\n",
       "1        20160    3209           1  ...           0.832012          0.677482     0\n",
       "2        19083    3209           3  ...           0.832012          0.677482     0\n",
       "3         5860    3209           1  ...           0.832012          0.677482     0\n",
       "4        10262    3209           6  ...           0.832012          0.677482     0\n",
       "...        ...     ...         ...  ...                ...               ...   ...\n",
       "2052369   7683   91997           1  ...           0.457509          0.352143  1992\n",
       "2052370   7683   92203           4  ...           0.519558          0.402892     0\n",
       "2052371   7683   98789           2  ...           0.573120          0.456013  1999\n",
       "2052372   7683  137669           5  ...           0.732603          0.486804  1981\n",
       "2052373  14759   34682           1  ...           0.631482          0.000000  2000\n",
       "\n",
       "[2052374 rows x 10 columns]"
      ]
     },
     "execution_count": 77,
     "metadata": {},
     "output_type": "execute_result"
    }
   ],
   "source": [
    "#Load data\n",
    "path = '../data/metadata/'\n",
    "\n",
    "#Ratings\n",
    "# ratings = pd.read_csv(path+'ratings.dat', sep='::', header=None, engine='python')\n",
    "# ratings.columns = ['userId','movieId','rating','timestamp']\n",
    "# ratings = ratings.drop('timestamp', axis=1)\n",
    "# ratings = pd.read_csv(path+'user_item_rating_2.csv')   #, sep=',', header=None, engine='python')\n",
    "ratings = pd.read_csv(path+'user_item_rating_all_200w.csv')   #, sep=',', header=None, engine='python')\n",
    "ratings.columns = ['user','song','rating']\n",
    "ratings.info(verbose=True, max_cols=True, memory_usage=True, null_counts=True)\n",
    "\n",
    "# data\n",
    "# data = pd.read_csv(path+'track_200w.csv')\n",
    "data = pd.read_csv(path+'track_all_200w.csv')\n",
    "# data = data[['user','song','play_count','year','tags']]\n",
    "data.info(verbose=True, max_cols=True, memory_usage=True, null_counts=True)\n",
    "data.head(10)\n",
    "data.astype({'user': 'int32', 'song': 'int32', 'play_count': 'int32', 'year': 'int32'})\n"
   ]
  },
  {
   "cell_type": "code",
   "execution_count": null,
   "metadata": {
    "colab": {
     "base_uri": "https://localhost:8080/"
    },
    "executionInfo": {
     "elapsed": 11677,
     "status": "ok",
     "timestamp": 1640360930701,
     "user": {
      "displayName": "bo turbo",
      "photoUrl": "https://lh3.googleusercontent.com/a-/AOh14GgxmV8SoWvvAWwa1vJ_18oeD3h1vkWk3iEI0_zm=s64",
      "userId": "10121278098039451445"
     },
     "user_tz": -480
    },
    "id": "-52dGnMKDIc1",
    "outputId": "0294e672-0e2b-468b-fd4e-4609af88e75a"
   },
   "outputs": [
    {
     "name": "stdout",
     "output_type": "stream",
     "text": [
      "歌曲播放量大于100的用户数量占总体用户数量的比例为 40.32%\n",
      "歌曲播放量大于100的用户产生的播放总量占总体播放总量的比例为 80.8776%\n",
      "歌曲播放量大于100的用户产生的数据占总体数据的比例为 71.9577%\n",
      "data:****************************************\n",
      "<class 'pandas.core.frame.DataFrame'>\n",
      "RangeIndex: 2052374 entries, 0 to 2052373\n",
      "Data columns (total 10 columns):\n",
      " #   Column              Non-Null Count    Dtype  \n",
      "---  ------              --------------    -----  \n",
      " 0   user                2052374 non-null  int64  \n",
      " 1   song                2052374 non-null  int64  \n",
      " 2   play_count          2052374 non-null  int64  \n",
      " 3   track_id            2052374 non-null  object \n",
      " 4   title               2052369 non-null  object \n",
      " 5   release             2052374 non-null  object \n",
      " 6   artist_name         2052374 non-null  object \n",
      " 7   artist_familiarity  2052374 non-null  float64\n",
      " 8   artist_hotttnesss   2052374 non-null  float64\n",
      " 9   year                2052374 non-null  int64  \n",
      "dtypes: float64(2), int64(4), object(4)\n",
      "memory usage: 156.6+ MB\n",
      "<class 'pandas.core.frame.DataFrame'>\n",
      "Int64Index: 193683 entries, 0 to 2052373\n",
      "Data columns (total 2 columns):\n",
      " #   Column     Non-Null Count   Dtype\n",
      "---  ------     --------------   -----\n",
      " 0   song       193683 non-null  int64\n",
      " 1   song_year  193683 non-null  int64\n",
      "dtypes: int64(2)\n",
      "memory usage: 4.4 MB\n",
      "<class 'pandas.core.frame.DataFrame'>\n",
      "Int64Index: 144068 entries, 96 to 2052373\n",
      "Data columns (total 2 columns):\n",
      " #   Column     Non-Null Count   Dtype\n",
      "---  ------     --------------   -----\n",
      " 0   song       144068 non-null  int64\n",
      " 1   song_year  144068 non-null  int64\n",
      "dtypes: int64(2)\n",
      "memory usage: 3.3 MB\n"
     ]
    }
   ],
   "source": [
    "# # 字典user_playcounts记录每个用户的播放总量\n",
    "# user_playcounts = {}\n",
    "# for user, group in data.groupby('user'):\n",
    "#     user_playcounts[user] = group['play_count'].sum()\n",
    "# temp_user = [user for user in user_playcounts.keys() if user_playcounts[user] > 100]\n",
    "# temp_playcounts = [playcounts for user, playcounts in user_playcounts.items() if playcounts > 100]\n",
    "# # data = data[data.user.isin(temp_user)]\n",
    "# ratings = ratings[ratings.user.isin(temp_user)]\n",
    "# print('歌曲播放量大于100的用户数量占总体用户数量的比例为', str(round(len(temp_user)/len(user_playcounts), 4)*100)+'%')\n",
    "# print('歌曲播放量大于100的用户产生的播放总量占总体播放总量的比例为', str(round(sum(temp_playcounts) / sum(user_playcounts.values())*100, 4))+'%')\n",
    "# print('歌曲播放量大于100的用户产生的数据占总体数据的比例为', str(round(len(data[data.user.isin(temp_user)])/len(data)*100, 4))+\"%\")\n",
    "\n",
    "\n",
    "\n",
    "# song_playcounts字典，记录每首歌的播放量\n",
    "# song_playcounts = {}\n",
    "# for song, group in data.groupby('song'):\n",
    "#     song_playcounts[song] = group['play_count'].sum()\n",
    "# temp_song = [song for song in song_playcounts.keys() if song_playcounts[song] > 50]\n",
    "# temp_playcounts = [playcounts for song, playcounts in song_playcounts.items() if playcounts > 50]\n",
    "# # data = data[data.song.isin(temp_song)]\n",
    "# ratings = ratings[ratings.song.isin(temp_song)]\n",
    "# print('播放量大于50的歌曲数量占总体歌曲数量的比例为', str(round(len(temp_song)/len(song_playcounts), 4)*100)+'%')\n",
    "# print('播放量大于50的歌曲产生的播放总量占总体播放总量的比例为', str(round(sum(temp_playcounts) / sum(song_playcounts.values())*100, 4))+'%')\n",
    "# print('播放量大于50的歌曲产生的数据占总体数据的比例为', str(round(len(data[data.song.isin(temp_song)])/len(data)*100, 4))+\"%\")\n",
    "\n",
    "\n",
    "print(\"data:****************************************\")\n",
    "data.info(verbose=True, max_cols=True, memory_usage=True, null_counts=True)\n",
    "\n",
    "\n",
    "#songs\n",
    "# movies = pd.read_csv(path+'movies.dat', sep='::', header=None, engine='python')\n",
    "# movies.columns = ['movieId','Title','Genres']\n",
    "songs = data[['song','year']]\n",
    "songs = songs.rename(columns={'year': 'song_year'})\n",
    "# 根据songID去重\n",
    "songs.drop_duplicates(subset=['song'],keep='first',inplace=True)\n",
    "songs.info(verbose=True, max_cols=True, memory_usage=True, null_counts=True)\n",
    "# 去除year为0\n",
    "songs = songs[songs.song_year != 0]\n",
    "songs.head(10)\n",
    "songs.info(verbose=True, max_cols=True, memory_usage=True, null_counts=True)\n",
    "\n",
    "# 评分中year为0的歌曲去除\n",
    "song_with_year = [song for song in songs.song]\n",
    "ratings = ratings[ratings.song.isin(song_with_year)]\n",
    "del(song_with_year)\n",
    "# song_with_year.head(10)\n",
    "# song_with_year.info(verbose=True, max_cols=True, memory_usage=True, null_counts=True)\n",
    "#Users\n",
    "# users = pd.read_csv(path+'users.dat', sep='::', header=None, engine='python')\n",
    "# users.columns = ['userId','Gender','Age','Occupation','Zip-code']\n",
    "# users = users.drop('Zip-code', axis=1)\n",
    "# user没有附加信息\n",
    "# users = data[['user']]"
   ]
  },
  {
   "cell_type": "code",
   "execution_count": null,
   "metadata": {
    "colab": {
     "base_uri": "https://localhost:8080/"
    },
    "executionInfo": {
     "elapsed": 28,
     "status": "ok",
     "timestamp": 1640360930704,
     "user": {
      "displayName": "bo turbo",
      "photoUrl": "https://lh3.googleusercontent.com/a-/AOh14GgxmV8SoWvvAWwa1vJ_18oeD3h1vkWk3iEI0_zm=s64",
      "userId": "10121278098039451445"
     },
     "user_tz": -480
    },
    "id": "OdrOA-UZC3GW",
    "outputId": "86041528-8daf-4168-c6c9-22621b413c0d"
   },
   "outputs": [
    {
     "name": "stdout",
     "output_type": "stream",
     "text": [
      "Duplicated rows in ratings file: 32486\n",
      "Number of users: 16837\n",
      "Number of songs: 130006\n",
      "Sparsity: 0.055%\n"
     ]
    }
   ],
   "source": [
    "#Data quality\n",
    "print('Duplicated rows in ratings file: ' + str(ratings.duplicated().sum()))\n",
    "\n",
    "# n_users = ratings.userId.unique().shape[0]\n",
    "# n_movies = ratings.movieId.unique().shape[0]\n",
    "n_users = ratings.user.unique().shape[0]\n",
    "n_songs = ratings.song.unique().shape[0]\n",
    "\n",
    "print('Number of users: {}'.format(n_users))\n",
    "print('Number of songs: {}'.format(n_songs))\n",
    "print('Sparsity: {:4.3f}%'.format(float(ratings.shape[0]) / float(n_users*n_songs) * 100))\n",
    "\n",
    "# all\n",
    "\n",
    "\n",
    "# user>100\n",
    "\n",
    "\n",
    "# song>50\n",
    "\n",
    "\n",
    "# user>100 and song>50\n"
   ]
  },
  {
   "cell_type": "code",
   "execution_count": null,
   "metadata": {
    "colab": {
     "base_uri": "https://localhost:8080/"
    },
    "executionInfo": {
     "elapsed": 13,
     "status": "ok",
     "timestamp": 1640360930705,
     "user": {
      "displayName": "bo turbo",
      "photoUrl": "https://lh3.googleusercontent.com/a-/AOh14GgxmV8SoWvvAWwa1vJ_18oeD3h1vkWk3iEI0_zm=s64",
      "userId": "10121278098039451445"
     },
     "user_tz": -480
    },
    "id": "o0QN0Tw9QWHX",
    "outputId": "c5169ee6-fe46-4e09-f331-a35e15ba7a69"
   },
   "outputs": [
    {
     "name": "stdout",
     "output_type": "stream",
     "text": [
      "ratings*************************\n",
      "songs*************************\n"
     ]
    },
    {
     "data": {
      "text/html": [
       "\n",
       "  <div id=\"df-8be2b5f2-b6f6-497f-abec-bba535339023\">\n",
       "    <div class=\"colab-df-container\">\n",
       "      <div>\n",
       "<style scoped>\n",
       "    .dataframe tbody tr th:only-of-type {\n",
       "        vertical-align: middle;\n",
       "    }\n",
       "\n",
       "    .dataframe tbody tr th {\n",
       "        vertical-align: top;\n",
       "    }\n",
       "\n",
       "    .dataframe thead th {\n",
       "        text-align: right;\n",
       "    }\n",
       "</style>\n",
       "<table border=\"1\" class=\"dataframe\">\n",
       "  <thead>\n",
       "    <tr style=\"text-align: right;\">\n",
       "      <th></th>\n",
       "      <th>song</th>\n",
       "      <th>song_year</th>\n",
       "    </tr>\n",
       "  </thead>\n",
       "  <tbody>\n",
       "    <tr>\n",
       "      <th>96</th>\n",
       "      <td>4702</td>\n",
       "      <td>1974</td>\n",
       "    </tr>\n",
       "    <tr>\n",
       "      <th>124</th>\n",
       "      <td>8475</td>\n",
       "      <td>1976</td>\n",
       "    </tr>\n",
       "    <tr>\n",
       "      <th>210</th>\n",
       "      <td>9707</td>\n",
       "      <td>2002</td>\n",
       "    </tr>\n",
       "    <tr>\n",
       "      <th>249</th>\n",
       "      <td>13918</td>\n",
       "      <td>2006</td>\n",
       "    </tr>\n",
       "    <tr>\n",
       "      <th>277</th>\n",
       "      <td>14658</td>\n",
       "      <td>2002</td>\n",
       "    </tr>\n",
       "    <tr>\n",
       "      <th>284</th>\n",
       "      <td>15231</td>\n",
       "      <td>2008</td>\n",
       "    </tr>\n",
       "    <tr>\n",
       "      <th>305</th>\n",
       "      <td>15307</td>\n",
       "      <td>2007</td>\n",
       "    </tr>\n",
       "    <tr>\n",
       "      <th>1525</th>\n",
       "      <td>15622</td>\n",
       "      <td>2005</td>\n",
       "    </tr>\n",
       "    <tr>\n",
       "      <th>1805</th>\n",
       "      <td>20279</td>\n",
       "      <td>2006</td>\n",
       "    </tr>\n",
       "    <tr>\n",
       "      <th>1841</th>\n",
       "      <td>24070</td>\n",
       "      <td>1999</td>\n",
       "    </tr>\n",
       "  </tbody>\n",
       "</table>\n",
       "</div>\n",
       "      <button class=\"colab-df-convert\" onclick=\"convertToInteractive('df-8be2b5f2-b6f6-497f-abec-bba535339023')\"\n",
       "              title=\"Convert this dataframe to an interactive table.\"\n",
       "              style=\"display:none;\">\n",
       "        \n",
       "  <svg xmlns=\"http://www.w3.org/2000/svg\" height=\"24px\"viewBox=\"0 0 24 24\"\n",
       "       width=\"24px\">\n",
       "    <path d=\"M0 0h24v24H0V0z\" fill=\"none\"/>\n",
       "    <path d=\"M18.56 5.44l.94 2.06.94-2.06 2.06-.94-2.06-.94-.94-2.06-.94 2.06-2.06.94zm-11 1L8.5 8.5l.94-2.06 2.06-.94-2.06-.94L8.5 2.5l-.94 2.06-2.06.94zm10 10l.94 2.06.94-2.06 2.06-.94-2.06-.94-.94-2.06-.94 2.06-2.06.94z\"/><path d=\"M17.41 7.96l-1.37-1.37c-.4-.4-.92-.59-1.43-.59-.52 0-1.04.2-1.43.59L10.3 9.45l-7.72 7.72c-.78.78-.78 2.05 0 2.83L4 21.41c.39.39.9.59 1.41.59.51 0 1.02-.2 1.41-.59l7.78-7.78 2.81-2.81c.8-.78.8-2.07 0-2.86zM5.41 20L4 18.59l7.72-7.72 1.47 1.35L5.41 20z\"/>\n",
       "  </svg>\n",
       "      </button>\n",
       "      \n",
       "  <style>\n",
       "    .colab-df-container {\n",
       "      display:flex;\n",
       "      flex-wrap:wrap;\n",
       "      gap: 12px;\n",
       "    }\n",
       "\n",
       "    .colab-df-convert {\n",
       "      background-color: #E8F0FE;\n",
       "      border: none;\n",
       "      border-radius: 50%;\n",
       "      cursor: pointer;\n",
       "      display: none;\n",
       "      fill: #1967D2;\n",
       "      height: 32px;\n",
       "      padding: 0 0 0 0;\n",
       "      width: 32px;\n",
       "    }\n",
       "\n",
       "    .colab-df-convert:hover {\n",
       "      background-color: #E2EBFA;\n",
       "      box-shadow: 0px 1px 2px rgba(60, 64, 67, 0.3), 0px 1px 3px 1px rgba(60, 64, 67, 0.15);\n",
       "      fill: #174EA6;\n",
       "    }\n",
       "\n",
       "    [theme=dark] .colab-df-convert {\n",
       "      background-color: #3B4455;\n",
       "      fill: #D2E3FC;\n",
       "    }\n",
       "\n",
       "    [theme=dark] .colab-df-convert:hover {\n",
       "      background-color: #434B5C;\n",
       "      box-shadow: 0px 1px 3px 1px rgba(0, 0, 0, 0.15);\n",
       "      filter: drop-shadow(0px 1px 2px rgba(0, 0, 0, 0.3));\n",
       "      fill: #FFFFFF;\n",
       "    }\n",
       "  </style>\n",
       "\n",
       "      <script>\n",
       "        const buttonEl =\n",
       "          document.querySelector('#df-8be2b5f2-b6f6-497f-abec-bba535339023 button.colab-df-convert');\n",
       "        buttonEl.style.display =\n",
       "          google.colab.kernel.accessAllowed ? 'block' : 'none';\n",
       "\n",
       "        async function convertToInteractive(key) {\n",
       "          const element = document.querySelector('#df-8be2b5f2-b6f6-497f-abec-bba535339023');\n",
       "          const dataTable =\n",
       "            await google.colab.kernel.invokeFunction('convertToInteractive',\n",
       "                                                     [key], {});\n",
       "          if (!dataTable) return;\n",
       "\n",
       "          const docLinkHtml = 'Like what you see? Visit the ' +\n",
       "            '<a target=\"_blank\" href=https://colab.research.google.com/notebooks/data_table.ipynb>data table notebook</a>'\n",
       "            + ' to learn more about interactive tables.';\n",
       "          element.innerHTML = '';\n",
       "          dataTable['output_type'] = 'display_data';\n",
       "          await google.colab.output.renderOutput(dataTable, element);\n",
       "          const docLink = document.createElement('div');\n",
       "          docLink.innerHTML = docLinkHtml;\n",
       "          element.appendChild(docLink);\n",
       "        }\n",
       "      </script>\n",
       "    </div>\n",
       "  </div>\n",
       "  "
      ],
      "text/plain": [
       "       song  song_year\n",
       "96     4702       1974\n",
       "124    8475       1976\n",
       "210    9707       2002\n",
       "249   13918       2006\n",
       "277   14658       2002\n",
       "284   15231       2008\n",
       "305   15307       2007\n",
       "1525  15622       2005\n",
       "1805  20279       2006\n",
       "1841  24070       1999"
      ]
     },
     "execution_count": 80,
     "metadata": {},
     "output_type": "execute_result"
    }
   ],
   "source": [
    "ratings.shape\n",
    "print('ratings*************************')\n",
    "ratings.head(10)\n",
    "print('songs*************************')\n",
    "songs.head(10)"
   ]
  },
  {
   "cell_type": "code",
   "execution_count": null,
   "metadata": {
    "colab": {
     "base_uri": "https://localhost:8080/"
    },
    "executionInfo": {
     "elapsed": 568,
     "status": "ok",
     "timestamp": 1640360931262,
     "user": {
      "displayName": "bo turbo",
      "photoUrl": "https://lh3.googleusercontent.com/a-/AOh14GgxmV8SoWvvAWwa1vJ_18oeD3h1vkWk3iEI0_zm=s64",
      "userId": "10121278098039451445"
     },
     "user_tz": -480
    },
    "id": "RTeIFwOMQpgO",
    "outputId": "0389f76c-70d9-45a8-d8ca-63aa3f171a8b"
   },
   "outputs": [
    {
     "name": "stdout",
     "output_type": "stream",
     "text": [
      "<class 'pandas.core.frame.DataFrame'>\n",
      "Int64Index: 1194539 entries, 0 to 1194538\n",
      "Data columns (total 4 columns):\n",
      " #   Column     Non-Null Count    Dtype  \n",
      "---  ------     --------------    -----  \n",
      " 0   user       1194539 non-null  int64  \n",
      " 1   song       1194539 non-null  int64  \n",
      " 2   rating     1194539 non-null  float64\n",
      " 3   song_year  1194539 non-null  int64  \n",
      "dtypes: float64(1), int64(3)\n",
      "memory usage: 45.6 MB\n",
      "Number of users: 16837\n",
      "Number of songs: 130006\n",
      "Sparsity: 0.055%\n"
     ]
    }
   ],
   "source": [
    "# 评分和歌曲连接\n",
    "# final_df = ratings.merge(songs, left_on='song', right_on='song', how='inner')\n",
    "final_df = pd.merge(ratings,songs,how='left',on=\"song\")\n",
    "# user、song不按照播放量筛选：1648992条数据 \n",
    "final_df.info(verbose=True, max_cols=True, memory_usage=True, null_counts=True)\n",
    "\n",
    "n_users = final_df.user.unique().shape[0]\n",
    "n_songs = final_df.song.unique().shape[0]\n",
    "\n",
    "print('Number of users: {}'.format(n_users))\n",
    "print('Number of songs: {}'.format(n_songs))\n",
    "print('Sparsity: {:4.3f}%'.format(float(final_df.shape[0]) / float(n_users*n_songs) * 100))\n",
    "\n",
    "\n"
   ]
  },
  {
   "cell_type": "code",
   "execution_count": null,
   "metadata": {
    "id": "qg2yvgsmutl3"
   },
   "outputs": [],
   "source": [
    "final_df.head(10)  \n",
    "\n",
    "# 释放内存\n",
    "del(ratings)\n",
    "del(data)"
   ]
  },
  {
   "cell_type": "markdown",
   "metadata": {
    "id": "rCFvCPCEIEMG"
   },
   "source": [
    "### 数据处理"
   ]
  },
  {
   "cell_type": "code",
   "execution_count": null,
   "metadata": {
    "id": "20GQU9NuQ3j9"
   },
   "outputs": [],
   "source": [
    "def encoder(df, cols=None):\n",
    "    if cols == None:\n",
    "        cols = list(df.select_dtypes(include=['object']).columns)\n",
    "\n",
    "    val_types = dict()\n",
    "    for c in cols:\n",
    "        val_types[c] = df[c].unique()\n",
    "\n",
    "    val_to_idx = dict()\n",
    "    for k, v in val_types.items():\n",
    "        val_to_idx[k] = {o: i for i, o in enumerate(val_types[k])}\n",
    "\n",
    "    for k, v in val_to_idx.items():\n",
    "        df[k] = df[k].apply(lambda x: v[x])\n",
    "\n",
    "    return val_to_idx, df"
   ]
  },
  {
   "cell_type": "code",
   "execution_count": null,
   "metadata": {
    "id": "i7qK20zrRUV3"
   },
   "outputs": [],
   "source": [
    "def data_processing(df, wide_cols, embeddings_cols, continuous_cols, target,\n",
    "                    scale=False, def_dim=8):\n",
    "\n",
    "\n",
    "    if type(embeddings_cols[0]) is tuple:\n",
    "        emb_dim = dict(embeddings_cols)\n",
    "        embeddings_cols = [emb[0] for emb in embeddings_cols]\n",
    "    else:\n",
    "        emb_dim = {e:def_dim for e in embeddings_cols}\n",
    "    deep_cols = embeddings_cols+continuous_cols\n",
    "\n",
    "    # Extract the target and copy the dataframe so we don't mutate it\n",
    "    # internally.\n",
    "    Y = np.array(df[target])\n",
    "    all_columns = list(set(wide_cols + deep_cols ))\n",
    "    df_tmp = df.copy()[all_columns]\n",
    "\n",
    "\n",
    "    # 提取可在以后进行热编码的分类列名\n",
    "    categorical_columns = list(df_tmp.select_dtypes(include=['object']).columns)\n",
    "\n",
    "\n",
    "    encoding_dict,df_tmp = encoder(df_tmp)\n",
    "    encoding_dict = {k:encoding_dict[k] for k in encoding_dict if k in deep_cols}\n",
    "    embeddings_input = []\n",
    "    for k,v in encoding_dict.items():\n",
    "        embeddings_input.append((k, len(v), emb_dim[k]))\n",
    "\n",
    "    df_deep = df_tmp[deep_cols]\n",
    "    deep_column_idx = {k:v for v,k in enumerate(df_deep.columns)}\n",
    "\n",
    "\n",
    "    if scale:\n",
    "        scaler = StandardScaler()\n",
    "        for cc in continuous_cols:\n",
    "            df_deep[cc]  = scaler.fit_transform(df_deep[cc].values.reshape(-1,1))\n",
    "\n",
    "    df_wide = df_tmp[wide_cols]\n",
    "    del(df_tmp)\n",
    "    dummy_cols = [c for c in wide_cols if c in categorical_columns]\n",
    "    df_wide = pd.get_dummies(df_wide, columns=dummy_cols)\n",
    "\n",
    "    X_train_deep, X_test_deep = train_test_split(df_deep.values, test_size=0.3, random_state=1463)\n",
    "    X_train_wide, X_test_wide = train_test_split(df_wide.values, test_size=0.3, random_state=1463)\n",
    "    y_train, y_test = train_test_split(Y, test_size=0.3, random_state=1981)\n",
    "\n",
    "    group_dataset = dict()\n",
    "    train_dataset = namedtuple('train_dataset', 'wide, deep, labels')\n",
    "    test_dataset  = namedtuple('test_dataset' , 'wide, deep, labels')\n",
    "    group_dataset['train_dataset'] = train_dataset(X_train_wide, X_train_deep, y_train)\n",
    "    group_dataset['test_dataset']  = test_dataset(X_test_wide, X_test_deep, y_test)\n",
    "    group_dataset['embeddings_input']  = embeddings_input\n",
    "    group_dataset['deep_column_idx'] = deep_column_idx\n",
    "    group_dataset['encoding_dict'] = encoding_dict\n",
    "\n",
    "    return group_dataset"
   ]
  },
  {
   "cell_type": "markdown",
   "metadata": {
    "id": "Pou6njqwH68k"
   },
   "source": [
    "### 数据设置"
   ]
  },
  {
   "cell_type": "code",
   "execution_count": null,
   "metadata": {
    "id": "0aupLbLkRYxv"
   },
   "outputs": [],
   "source": [
    "#数据设置\n",
    "# wide_cols = ['song_year','tags','user','song']\n",
    "# embeddings_cols = [('tags',20), ('user',100), ('song',100)]\n",
    "wide_cols = ['song_year','user','song']\n",
    "embeddings_cols = [('user',100), ('song',100)]\n",
    "crossed_cols = ()\n",
    "continuous_cols = [\"song_year\"]\n",
    "target = 'rating'"
   ]
  },
  {
   "cell_type": "code",
   "execution_count": null,
   "metadata": {
    "id": "DBtHN0UhRb1Y"
   },
   "outputs": [],
   "source": [
    "#拆分数据并生成嵌入\n",
    "data_processed = data_processing(\n",
    "    final_df, wide_cols,\n",
    "    embeddings_cols,\n",
    "    continuous_cols,\n",
    "    target,\n",
    "    scale=True)"
   ]
  },
  {
   "cell_type": "code",
   "execution_count": null,
   "metadata": {
    "id": "JDc2xh0GRem3"
   },
   "outputs": [],
   "source": [
    "use_cuda = torch.cuda.is_available()\n",
    "\n",
    "#加载数据集\n",
    "class DatasetLoader(Dataset):\n",
    "    def __init__(self, data):\n",
    "\n",
    "        self.X_wide = data.wide\n",
    "        self.X_deep = data.deep\n",
    "        self.Y = data.labels\n",
    "\n",
    "    def __getitem__(self, idx):\n",
    "\n",
    "        xw = self.X_wide[idx]\n",
    "        xd = self.X_deep[idx]\n",
    "        y  = self.Y[idx]\n",
    "\n",
    "        return xw, xd, y\n",
    "\n",
    "    def __len__(self):\n",
    "        return len(self.Y)"
   ]
  },
  {
   "cell_type": "markdown",
   "metadata": {
    "id": "Hsx5QdPXH_P0"
   },
   "source": [
    "### 类定义广度和深度神经网络"
   ]
  },
  {
   "cell_type": "code",
   "execution_count": null,
   "metadata": {
    "id": "v6LWNfzkRi--"
   },
   "outputs": [],
   "source": [
    "#类定义广度和深度神经网络\n",
    "class NeuralNet(nn.Module):\n",
    "\n",
    "    def __init__(self,\n",
    "                 wide_dim,\n",
    "                 embeddings_input,\n",
    "                 continuous_cols,\n",
    "                 deep_column_idx,\n",
    "                 hidden_layers,\n",
    "                 dropout,\n",
    "                 encoding_dict,\n",
    "                 n_class):\n",
    "\n",
    "        super(NeuralNet, self).__init__()\n",
    "        self.wide_dim = wide_dim\n",
    "        self.deep_column_idx = deep_column_idx\n",
    "        self.embeddings_input = embeddings_input\n",
    "        self.continuous_cols = continuous_cols\n",
    "        self.hidden_layers = hidden_layers\n",
    "        self.dropout = dropout\n",
    "        self.encoding_dict = encoding_dict\n",
    "        self.n_class = n_class\n",
    "        self.loss_values=[]\n",
    "\n",
    "        # 创建要穿过深侧的嵌入层\n",
    "        for col,val,dim in self.embeddings_input:\n",
    "            setattr(self, 'emb_layer_'+col, nn.Embedding(val, dim))\n",
    "\n",
    "        # 如果指定，则使用下拉框构建深侧隐藏层\n",
    "        input_emb_dim = np.sum([emb[2] for emb in self.embeddings_input])\n",
    "        # input_emb_dim为float64\n",
    "        input_emb_dim = int(input_emb_dim)\n",
    "        self.linear_1 = nn.Linear(input_emb_dim+len(continuous_cols), self.hidden_layers[0])\n",
    "        if self.dropout:\n",
    "            self.linear_1_drop = nn.Dropout(self.dropout[0])\n",
    "        for i,h in enumerate(self.hidden_layers[1:],1):\n",
    "            setattr(self, 'linear_'+str(i+1), nn.Linear( self.hidden_layers[i-1], self.hidden_layers[i] ))\n",
    "            if self.dropout:\n",
    "                setattr(self, 'linear_'+str(i+1)+'_drop', nn.Dropout(self.dropout[i]))\n",
    "\n",
    "        # 将模型的wide侧和deep侧连接到输出神经元\n",
    "        self.output = nn.Linear(self.hidden_layers[-1]+self.wide_dim, self.n_class)\n",
    "\n",
    "\n",
    "    def compile(self, optimizer=\"Adam\", learning_rate=0.001, momentum=0.0):\n",
    "\n",
    "        self.activation, self.criterion = None, F.mse_loss\n",
    "\n",
    "        if optimizer == \"Adam\":\n",
    "            self.optimizer = torch.optim.Adam(self.parameters(), lr=learning_rate)\n",
    "        if optimizer == \"RMSprop\":\n",
    "            self.optimizer = torch.optim.RMSprop(self.parameters(), lr=learning_rate)\n",
    "        if optimizer == \"SGD\":\n",
    "            self.optimizer = torch.optim.SGD(self.parameters(), lr=learning_rate, momentum=momentum)\n",
    "\n",
    "        self.method = 'regression'\n",
    "\n",
    "\n",
    "    def forward(self, X_w, X_d):\n",
    "\n",
    "        # Deep 侧\n",
    "        emb = [getattr(self, 'emb_layer_'+col)(X_d[:,self.deep_column_idx[col]].long())\n",
    "               for col,_,_ in self.embeddings_input]\n",
    "        if self.continuous_cols:\n",
    "            cont_idx = [self.deep_column_idx[col] for col in self.continuous_cols]\n",
    "            cont = [X_d[:, cont_idx].float()]\n",
    "            deep_inp = torch.cat(emb+cont, 1)\n",
    "        else:\n",
    "            deep_inp = torch.cat(emb, 1)\n",
    "\n",
    "        x_deep = F.relu(self.linear_1(deep_inp))\n",
    "        if self.dropout:\n",
    "            x_deep = self.linear_1_drop(x_deep)\n",
    "        for i in range(1,len(self.hidden_layers)):\n",
    "            x_deep = F.relu( getattr(self, 'linear_'+str(i+1))(x_deep) )\n",
    "            if self.dropout:\n",
    "                x_deep = getattr(self, 'linear_'+str(i+1)+'_drop')(x_deep)\n",
    "\n",
    "        # Deep + Wide 侧\n",
    "        wide_deep_input = torch.cat([x_deep, X_w.float()], 1)\n",
    "\n",
    "        if not self.activation:\n",
    "            out = self.output(wide_deep_input)\n",
    "        else:\n",
    "            out = self.activation(self.output(wide_deep_input))\n",
    "\n",
    "        return out\n",
    "\n",
    "\n",
    "    def fit(self, dataset, n_epochs, batch_size):\n",
    "\n",
    "        widedeep_dataset = DatasetLoader(dataset)\n",
    "        train_loader = torch.utils.data.DataLoader(dataset=widedeep_dataset,\n",
    "                                                   batch_size=batch_size,\n",
    "                                                   shuffle=True)\n",
    "\n",
    "        # 将模型设置为评估模式，以便不应用退出\n",
    "        net = self.train()\n",
    "        for epoch in range(n_epochs):\n",
    "            total=0\n",
    "            correct=0\n",
    "            for i, (X_wide, X_deep, target) in enumerate(train_loader):\n",
    "                X_w = Variable(X_wide)\n",
    "                X_d = Variable(X_deep)\n",
    "                y = (Variable(target).float() if self.method != 'multiclass' else Variable(target))\n",
    "\n",
    "                if use_cuda:\n",
    "                    X_w, X_d, y = X_w.cuda(), X_d.cuda(), y.cuda()\n",
    "\n",
    "                self.optimizer.zero_grad()\n",
    "                y_pred =  net(X_w, X_d)\n",
    "                y_pred = torch.squeeze(y_pred)\n",
    "                loss = self.criterion(y_pred, y)\n",
    "                loss.backward()\n",
    "                self.optimizer.step()\n",
    "\n",
    "                if self.method != \"regression\":\n",
    "                    total+= y.size(0)\n",
    "                    if self.method == 'logistic':\n",
    "                        y_pred_cat = (y_pred > 0.5).squeeze(1).float()\n",
    "                    if self.method == \"multiclass\":\n",
    "                        _, y_pred_cat = torch.max(y_pred, 1)\n",
    "                    correct+= float((y_pred_cat == y).sum().data[0])\n",
    "            self.loss_values.append(loss.item())\n",
    "            print ('Epoch {} of {}, Loss: {}'.format(epoch+1, n_epochs,\n",
    "                                                     round(loss.item(),3)))\n",
    "\n",
    "\n",
    "    def predict(self, dataset):\n",
    "\n",
    "\n",
    "        X_w = Variable(torch.from_numpy(dataset.wide)).float()\n",
    "        X_d = Variable(torch.from_numpy(dataset.deep))\n",
    "\n",
    "        if use_cuda:\n",
    "            X_w, X_d = X_w.cuda(), X_d.cuda()\n",
    "\n",
    "        # set the model in evaluation mode so dropout is not applied\n",
    "        net = self.eval()\n",
    "        pred = net(X_w,X_d).cpu()\n",
    "        if self.method == \"regression\":\n",
    "            return pred.squeeze(1).data.numpy()\n",
    "        if self.method == \"logistic\":\n",
    "            return (pred > 0.5).squeeze(1).data.numpy()\n",
    "        if self.method == \"multiclass\":\n",
    "            _, pred_cat = torch.max(pred, 1)\n",
    "            return pred_cat.data.numpy()\n",
    "\n",
    "\n",
    "\n",
    "\n",
    "    def get_embeddings(self, col_name):\n",
    "        params = list(self.named_parameters())\n",
    "        emb_layers = [p for p in params if 'emb_layer' in p[0]]\n",
    "        emb_layer  = [layer for layer in emb_layers if col_name in layer[0]][0]\n",
    "        embeddings = emb_layer[1].cpu().data.numpy()\n",
    "        col_label_encoding = self.encoding_dict[col_name]\n",
    "        inv_dict = {v:k for k,v in col_label_encoding.items()}\n",
    "        embeddings_dict = {}\n",
    "        for idx,value in inv_dict.items():\n",
    "            embeddings_dict[value] = embeddings[idx]\n",
    "\n",
    "        return embeddings_dict"
   ]
  },
  {
   "cell_type": "code",
   "execution_count": null,
   "metadata": {
    "id": "QM3CGo6oRqri"
   },
   "outputs": [],
   "source": [
    "# 网络建立\n",
    "wide_dim = data_processed['train_dataset'].wide.shape[1]\n",
    "n_unique = len(np.unique(data_processed['train_dataset'].labels))\n",
    "n_class = 1\n",
    "\n",
    "deep_column_idx = data_processed['deep_column_idx']\n",
    "embeddings_input= data_processed['embeddings_input']\n",
    "encoding_dict   = data_processed['encoding_dict']\n",
    "hidden_layers = [100,50]\n",
    "dropout = [0.5,0.2]"
   ]
  },
  {
   "cell_type": "code",
   "execution_count": null,
   "metadata": {
    "id": "iHal58H4RvpI"
   },
   "outputs": [],
   "source": [
    "use_cuda = torch.cuda.is_available()\n",
    "\n",
    "model = NeuralNet(\n",
    "    wide_dim,\n",
    "    embeddings_input,\n",
    "    continuous_cols,\n",
    "    deep_column_idx,\n",
    "    hidden_layers,\n",
    "    dropout,\n",
    "    encoding_dict,\n",
    "    n_class)\n",
    "model.compile(optimizer='Adam')\n",
    "if use_cuda:\n",
    "    model = model.cuda()"
   ]
  },
  {
   "cell_type": "markdown",
   "metadata": {
    "id": "AXAHoZP-HndK"
   },
   "source": [
    "### 训练模型"
   ]
  },
  {
   "cell_type": "code",
   "execution_count": null,
   "metadata": {
    "colab": {
     "base_uri": "https://localhost:8080/"
    },
    "id": "_0jrj3wuRzBF",
    "outputId": "71b5020b-86db-45d0-ab12-e7fe58c207ab"
   },
   "outputs": [
    {
     "name": "stdout",
     "output_type": "stream",
     "text": [
      "Epoch 1 of 5, Loss: 0.122\n",
      "Epoch 2 of 5, Loss: 0.002\n",
      "Epoch 3 of 5, Loss: 3.713\n",
      "Epoch 4 of 5, Loss: 2.457\n"
     ]
    }
   ],
   "source": [
    "#训练模型\n",
    "train_dataset = data_processed['train_dataset']\n",
    "model.fit(dataset=train_dataset, n_epochs=5, batch_size=60)\n",
    "\n",
    "# 调参\n",
    "# model.fit(dataset=train_dataset, n_epochs=30, batch_size=60)"
   ]
  },
  {
   "cell_type": "code",
   "execution_count": null,
   "metadata": {
    "colab": {
     "background_save": true
    },
    "id": "31W8rNGgR10o"
   },
   "outputs": [],
   "source": [
    "#%%\n",
    "\n",
    "test_dataset = data_processed['test_dataset']"
   ]
  },
  {
   "cell_type": "code",
   "execution_count": null,
   "metadata": {
    "colab": {
     "background_save": true
    },
    "id": "oArrMX63R879"
   },
   "outputs": [],
   "source": [
    "#%%\n",
    "\n",
    "y_pred = model.predict(dataset=test_dataset)"
   ]
  },
  {
   "cell_type": "code",
   "execution_count": null,
   "metadata": {
    "colab": {
     "background_save": true
    },
    "id": "c2Ab7E0gR9vy"
   },
   "outputs": [],
   "source": [
    "y = test_dataset.labels"
   ]
  },
  {
   "cell_type": "code",
   "execution_count": null,
   "metadata": {
    "colab": {
     "background_save": true
    },
    "id": "_jqvK5jQSBZj",
    "outputId": "64964c2b-5a49-4c25-d524-a7fa5ca70a47"
   },
   "outputs": [
    {
     "data": {
      "text/plain": [
       "0.0011868352998626066"
      ]
     },
     "execution_count": null,
     "metadata": {},
     "output_type": "execute_result"
    }
   ],
   "source": [
    "#获取测试MSE\n",
    "mean_squared_error(y_pred,y)"
   ]
  },
  {
   "cell_type": "code",
   "execution_count": null,
   "metadata": {
    "colab": {
     "background_save": true
    },
    "id": "ihM_GvhbSGCs",
    "outputId": "01543e16-6a78-425b-81d0-6a76befdb656"
   },
   "outputs": [
    {
     "data": {
      "text/plain": [
       "0.024073702641386717"
      ]
     },
     "execution_count": null,
     "metadata": {},
     "output_type": "execute_result"
    }
   ],
   "source": [
    "#获取测试MAE\n",
    "mean_absolute_error(y_pred,y)"
   ]
  },
  {
   "cell_type": "code",
   "execution_count": null,
   "metadata": {
    "colab": {
     "background_save": true
    },
    "id": "trzvwr5eSJOB",
    "outputId": "d0d05003-9bc6-4a38-ad4d-4cd94f21255f"
   },
   "outputs": [
    {
     "data": {
      "image/png": "[encoded data removed]",
      "text/plain": [
       "<Figure size 432x288 with 1 Axes>"
      ]
     },
     "metadata": {},
     "output_type": "display_data"
    }
   ],
   "source": [
    "#可视化模型的训练误差\n",
    "plt.plot(model.loss_values)\n",
    "plt.ylabel('Train Error')\n",
    "plt.xlabel('epoch')\n",
    "plt.title(\"Train error for models initial settings\")\n",
    "plt.show()"
   ]
  },
  {
   "cell_type": "markdown",
   "metadata": {
    "id": "BWfZ4kM8HYUY"
   },
   "source": [
    "### 超参数调谐  对于梯度下降算法"
   ]
  },
  {
   "cell_type": "code",
   "execution_count": null,
   "metadata": {
    "colab": {
     "background_save": true
    },
    "id": "JGf_30s5SJjN"
   },
   "outputs": [],
   "source": [
    "## 超参数调谐\n",
    "\n",
    "### 对于梯度下降算法\n",
    "\n",
    "models = []\n",
    "methods = [\"Adam\",\"RMSprop\"]"
   ]
  },
  {
   "cell_type": "code",
   "execution_count": null,
   "metadata": {
    "id": "xCNQAYF1SMJD"
   },
   "outputs": [],
   "source": [
    "for method in methods:\n",
    "    model = NeuralNet(\n",
    "        wide_dim,\n",
    "        embeddings_input,\n",
    "        continuous_cols,\n",
    "        deep_column_idx,\n",
    "        hidden_layers,\n",
    "        dropout,\n",
    "        encoding_dict,\n",
    "        n_class)\n",
    "    model.compile(optimizer=method)\n",
    "    if use_cuda:\n",
    "        model = model.cuda()\n",
    "    model.fit(dataset=train_dataset, n_epochs=5, batch_size=60)\n",
    "\n",
    "    # 调参\n",
    "    # model.fit(dataset=train_dataset, n_epochs=30, batch_size=60)\n",
    "    models.append(model)"
   ]
  },
  {
   "cell_type": "code",
   "execution_count": null,
   "metadata": {
    "id": "Gj4cPJeQSPFB"
   },
   "outputs": [],
   "source": [
    "for model in models:\n",
    "    plt.plot(np.arange(5),model.loss_values)\n",
    "    \n",
    "    # 调参\n",
    "    # plt.plot(np.arange(30),model.loss_values)\n",
    "    # plt.plot(np.arange(1,5),model.loss_values[1,6])\n",
    "plt.ylabel('Train Error')\n",
    "plt.xlabel('epoch')\n",
    "# plt.ylim(0, 100) \n",
    "\n",
    "plt.legend(methods, loc='upper left')\n",
    "plt.title(\"Train error for different GD algorithms\")\n",
    "plt.show()"
   ]
  },
  {
   "cell_type": "code",
   "execution_count": null,
   "metadata": {
    "id": "PvtZFyJwSRSd"
   },
   "outputs": [],
   "source": [
    "for model in models:\n",
    "    print(\"for \"+ str(model.optimizer))\n",
    "    y_pred = model.predict(dataset=test_dataset)\n",
    "    y = test_dataset.labels\n",
    "    print(\"test mean squared error: \"+str(mean_squared_error(y_pred,y)))\n",
    "    print(\"test mean absolute error: \"+ str(mean_absolute_error(y_pred,y)))"
   ]
  },
  {
   "cell_type": "markdown",
   "metadata": {
    "id": "oVGPxbqIG716"
   },
   "source": [
    "### 优化 dropout values"
   ]
  },
  {
   "cell_type": "code",
   "execution_count": null,
   "metadata": {
    "id": "e6dMmoH7SUKa"
   },
   "outputs": [],
   "source": [
    "\n",
    "droupouts = [0,0.1,0.5]\n",
    "models_dropout=[]"
   ]
  },
  {
   "cell_type": "code",
   "execution_count": null,
   "metadata": {
    "colab": {
     "base_uri": "https://localhost:8080/"
    },
    "executionInfo": {
     "elapsed": 301391,
     "status": "ok",
     "timestamp": 1640359494908,
     "user": {
      "displayName": "bo turbo",
      "photoUrl": "https://lh3.googleusercontent.com/a-/AOh14GgxmV8SoWvvAWwa1vJ_18oeD3h1vkWk3iEI0_zm=s64",
      "userId": "10121278098039451445"
     },
     "user_tz": -480
    },
    "id": "AO9ccS1fSZrq",
    "outputId": "4c9a8efa-28b1-4fcc-be1d-97f4c0e99773"
   },
   "outputs": [
    {
     "name": "stdout",
     "output_type": "stream",
     "text": [
      "Epoch 1 of 3, Loss: 0.002\n",
      "Epoch 2 of 3, Loss: 0.004\n",
      "Epoch 3 of 3, Loss: 5.557\n",
      "Epoch 1 of 3, Loss: 0.737\n",
      "Epoch 2 of 3, Loss: 0.034\n",
      "Epoch 3 of 3, Loss: 0.004\n",
      "Epoch 1 of 3, Loss: 0.272\n",
      "Epoch 2 of 3, Loss: 0.014\n",
      "Epoch 3 of 3, Loss: 0.015\n"
     ]
    }
   ],
   "source": [
    "for droupout in droupouts:\n",
    "    dropout = [droupout,droupout]\n",
    "    model = NeuralNet(\n",
    "        wide_dim,\n",
    "        embeddings_input,\n",
    "        continuous_cols,\n",
    "        deep_column_idx,\n",
    "        hidden_layers,\n",
    "        dropout,\n",
    "        encoding_dict,\n",
    "        n_class)\n",
    "    model.compile(optimizer=\"Adam\")\n",
    "    if use_cuda:\n",
    "        model = model.cuda()\n",
    "    model.fit(dataset=train_dataset, n_epochs=3, batch_size=60)\n",
    "    # 调参\n",
    "    # model.fit(dataset=train_dataset, n_epochs=5, batch_size=60)\n",
    "    models_dropout.append(model)"
   ]
  },
  {
   "cell_type": "code",
   "execution_count": null,
   "metadata": {
    "colab": {
     "base_uri": "https://localhost:8080/",
     "height": 295
    },
    "executionInfo": {
     "elapsed": 29,
     "status": "ok",
     "timestamp": 1640359494911,
     "user": {
      "displayName": "bo turbo",
      "photoUrl": "https://lh3.googleusercontent.com/a-/AOh14GgxmV8SoWvvAWwa1vJ_18oeD3h1vkWk3iEI0_zm=s64",
      "userId": "10121278098039451445"
     },
     "user_tz": -480
    },
    "id": "72qii1moSeJB",
    "outputId": "a96dc45d-f996-4f62-eec8-db1c87b61e1f"
   },
   "outputs": [
    {
     "data": {
      "image/png": "[encoded data removed]",
      "text/plain": [
       "<Figure size 432x288 with 1 Axes>"
      ]
     },
     "metadata": {},
     "output_type": "display_data"
    }
   ],
   "source": [
    "for model in models_dropout:\n",
    "    plt.plot(np.arange(3),model.loss_values)\n",
    "\n",
    "    # 调参\n",
    "    # plt.plot(np.arange(5),model.loss_values)\n",
    "plt.ylabel('Train Error')\n",
    "plt.xlabel('epoch')\n",
    "\n",
    "plt.legend(droupouts, loc='upper left')\n",
    "plt.title(\"Train error for different dropouts\")\n",
    "plt.show()"
   ]
  },
  {
   "cell_type": "code",
   "execution_count": null,
   "metadata": {
    "colab": {
     "base_uri": "https://localhost:8080/"
    },
    "executionInfo": {
     "elapsed": 27,
     "status": "ok",
     "timestamp": 1640359494913,
     "user": {
      "displayName": "bo turbo",
      "photoUrl": "https://lh3.googleusercontent.com/a-/AOh14GgxmV8SoWvvAWwa1vJ_18oeD3h1vkWk3iEI0_zm=s64",
      "userId": "10121278098039451445"
     },
     "user_tz": -480
    },
    "id": "4dWgHSC0SeeE",
    "outputId": "2e328c6d-29ca-4e1e-f069-f40658c837db"
   },
   "outputs": [
    {
     "name": "stdout",
     "output_type": "stream",
     "text": [
      "for drououts: [0, 0]\n",
      "test mean squared error: 15.438629721488555\n",
      "test mean absolute error: 3.4647825046339924\n",
      "for drououts: [0.1, 0.1]\n",
      "test mean squared error: 0.014088687723436135\n",
      "test mean absolute error: 0.10242017546774843\n",
      "for drououts: [0.5, 0.5]\n",
      "test mean squared error: 0.019370444599363525\n",
      "test mean absolute error: 0.12470350097538505\n"
     ]
    }
   ],
   "source": [
    "# 直接显示平均值即可\n",
    "for model in models_dropout:\n",
    "    print(\"for drououts: \"+ str(model.dropout))\n",
    "    y_pred = model.predict(dataset=test_dataset)\n",
    "    y = test_dataset.labels\n",
    "    print(\"test mean squared error: \"+str(mean_squared_error(y_pred,y)))\n",
    "    print(\"test mean absolute error: \"+ str(mean_absolute_error(y_pred,y)))"
   ]
  },
  {
   "cell_type": "markdown",
   "metadata": {
    "id": "jUmZr1B1HEy6"
   },
   "source": [
    "### dropout调参"
   ]
  },
  {
   "cell_type": "code",
   "execution_count": null,
   "metadata": {
    "colab": {
     "base_uri": "https://localhost:8080/"
    },
    "executionInfo": {
     "elapsed": 379232,
     "status": "ok",
     "timestamp": 1640359874123,
     "user": {
      "displayName": "bo turbo",
      "photoUrl": "https://lh3.googleusercontent.com/a-/AOh14GgxmV8SoWvvAWwa1vJ_18oeD3h1vkWk3iEI0_zm=s64",
      "userId": "10121278098039451445"
     },
     "user_tz": -480
    },
    "id": "LXBpAZq0ShiM",
    "outputId": "6f4cffcf-10e6-45bf-dee0-419ef291a21e"
   },
   "outputs": [
    {
     "name": "stdout",
     "output_type": "stream",
     "text": [
      "Epoch 1 of 10, Loss: 0.008\n",
      "Epoch 2 of 10, Loss: 62.351\n",
      "Epoch 3 of 10, Loss: 31.505\n",
      "Epoch 4 of 10, Loss: 0.005\n",
      "Epoch 5 of 10, Loss: 0.101\n",
      "Epoch 6 of 10, Loss: 0.009\n",
      "Epoch 7 of 10, Loss: 0.009\n",
      "Epoch 8 of 10, Loss: 0.106\n",
      "Epoch 9 of 10, Loss: 0.0\n",
      "Epoch 10 of 10, Loss: 0.004\n"
     ]
    }
   ],
   "source": [
    "# dropout调参\n",
    "# dropout = [0.5,0.5]\n",
    "dropout = [0.1,0.1]\n",
    "# dropout = [0,0]\n",
    "model = NeuralNet(\n",
    "    wide_dim,\n",
    "    embeddings_input,\n",
    "    continuous_cols,\n",
    "    deep_column_idx,\n",
    "    hidden_layers,\n",
    "    dropout,\n",
    "    encoding_dict,\n",
    "    n_class)\n",
    "model.compile(optimizer=\"Adam\")\n",
    "if use_cuda:\n",
    "    model = model.cuda()\n",
    "model.fit(dataset=train_dataset, n_epochs=10, batch_size=60)\n",
    "\n",
    "# 调参\n",
    "# model.fit(dataset=train_dataset, n_epochs=30, batch_size=60)"
   ]
  },
  {
   "cell_type": "code",
   "execution_count": null,
   "metadata": {
    "colab": {
     "base_uri": "https://localhost:8080/",
     "height": 295
    },
    "executionInfo": {
     "elapsed": 24,
     "status": "ok",
     "timestamp": 1640359874125,
     "user": {
      "displayName": "bo turbo",
      "photoUrl": "https://lh3.googleusercontent.com/a-/AOh14GgxmV8SoWvvAWwa1vJ_18oeD3h1vkWk3iEI0_zm=s64",
      "userId": "10121278098039451445"
     },
     "user_tz": -480
    },
    "id": "pvNssLRCSlJp",
    "outputId": "f30bd457-5088-4024-a7fa-04b577a7776d"
   },
   "outputs": [
    {
     "data": {
      "image/png": "[encoded data removed]",
      "text/plain": [
       "<Figure size 432x288 with 1 Axes>"
      ]
     },
     "metadata": {},
     "output_type": "display_data"
    }
   ],
   "source": [
    "plt.plot(np.arange(10),model.loss_values)\n",
    "\n",
    "# 调参\n",
    "# plt.plot(np.arange(10),model.loss_values)\n",
    "plt.ylabel('Train Error')\n",
    "plt.xlabel('epoch')\n",
    "\n",
    "plt.title(\"Train error for optimal model\")\n",
    "plt.show()\n"
   ]
  },
  {
   "cell_type": "markdown",
   "metadata": {
    "id": "JI4EywiTHLak"
   },
   "source": [
    "### 平均值"
   ]
  },
  {
   "cell_type": "code",
   "execution_count": null,
   "metadata": {
    "colab": {
     "base_uri": "https://localhost:8080/"
    },
    "executionInfo": {
     "elapsed": 14,
     "status": "ok",
     "timestamp": 1640359874127,
     "user": {
      "displayName": "bo turbo",
      "photoUrl": "https://lh3.googleusercontent.com/a-/AOh14GgxmV8SoWvvAWwa1vJ_18oeD3h1vkWk3iEI0_zm=s64",
      "userId": "10121278098039451445"
     },
     "user_tz": -480
    },
    "id": "154ogiblSngr",
    "outputId": "1bf7efe8-d209-4e6e-cf0a-5a3ab335090e"
   },
   "outputs": [
    {
     "name": "stdout",
     "output_type": "stream",
     "text": [
      "test mean squared error: 0.10828367625003406\n",
      "test mean absolute error: 0.2969052974913848\n"
     ]
    }
   ],
   "source": [
    "y_pred = model.predict(dataset=test_dataset)\n",
    "y = test_dataset.labels\n",
    "print(\"test mean squared error: \"+str(mean_squared_error(y_pred,y)))\n",
    "print(\"test mean absolute error: \"+ str(mean_absolute_error(y_pred,y)))"
   ]
  },
  {
   "cell_type": "markdown",
   "metadata": {
    "id": "diI1tl3jGukl"
   },
   "source": [
    "### 计算不同子集运行模型的时间"
   ]
  },
  {
   "cell_type": "code",
   "execution_count": null,
   "metadata": {
    "id": "1fdqdL8kSp2l"
   },
   "outputs": [],
   "source": [
    "\n",
    "# unique_users = final_df['user'].unique()\n",
    "# user_quantiles = np.arange(0.1,1,0.1)\n",
    "# runtimes = []"
   ]
  },
  {
   "cell_type": "code",
   "execution_count": null,
   "metadata": {
    "colab": {
     "base_uri": "https://localhost:8080/"
    },
    "executionInfo": {
     "elapsed": 204386,
     "status": "ok",
     "timestamp": 1640360078502,
     "user": {
      "displayName": "bo turbo",
      "photoUrl": "https://lh3.googleusercontent.com/a-/AOh14GgxmV8SoWvvAWwa1vJ_18oeD3h1vkWk3iEI0_zm=s64",
      "userId": "10121278098039451445"
     },
     "user_tz": -480
    },
    "id": "pfkxRN3QSsQY",
    "outputId": "7450f6cb-49df-4e72-b1ab-fb30fb44c088"
   },
   "outputs": [
    {
     "name": "stdout",
     "output_type": "stream",
     "text": [
      "Epoch 1 of 1, Loss: 64.629\n",
      "total time:7.897770166397095\n",
      "Epoch 1 of 1, Loss: 0.088\n",
      "total time:13.298418998718262\n",
      "Epoch 1 of 1, Loss: 0.144\n",
      "total time:16.964170455932617\n",
      "Epoch 1 of 1, Loss: 0.014\n",
      "total time:19.13419270515442\n",
      "Epoch 1 of 1, Loss: 0.0\n",
      "total time:23.497531414031982\n",
      "Epoch 1 of 1, Loss: 0.122\n",
      "total time:26.43262028694153\n",
      "Epoch 1 of 1, Loss: 1.469\n",
      "total time:29.71981716156006\n",
      "Epoch 1 of 1, Loss: 0.003\n",
      "total time:32.5527606010437\n",
      "Epoch 1 of 1, Loss: 0.001\n",
      "total time:34.099862813949585\n"
     ]
    }
   ],
   "source": [
    "# import time\n",
    "# for quantile in user_quantiles:\n",
    "#     start_time = time.time()\n",
    "#     subset_users = unique_users[:int(len(unique_users)*quantile)]\n",
    "#     subset_df = final_df.loc[final_df['user'].isin(subset_users)]\n",
    "#     data_processed = data_processing(\n",
    "#         subset_df, wide_cols,\n",
    "#         embeddings_cols,\n",
    "#         continuous_cols,\n",
    "#         target,\n",
    "#         scale=True)\n",
    "#     model = NeuralNet(\n",
    "#         wide_dim,\n",
    "#         embeddings_input,\n",
    "#         continuous_cols,\n",
    "#         deep_column_idx,\n",
    "#         hidden_layers,\n",
    "#         dropout,\n",
    "#         encoding_dict,\n",
    "#         n_class)\n",
    "#     model.compile(optimizer='Adam')\n",
    "#     if use_cuda:\n",
    "#         model = model.cuda()\n",
    "#     train_dataset = data_processed['train_dataset']\n",
    "#     model.fit(dataset=train_dataset, n_epochs=1, batch_size=60)\n",
    "#     end_time = time.time()\n",
    "#     total_time = end_time- start_time\n",
    "#     print(\"total time:\" + str(total_time))\n",
    "#     runtimes.append(total_time)"
   ]
  },
  {
   "cell_type": "code",
   "execution_count": null,
   "metadata": {
    "colab": {
     "base_uri": "https://localhost:8080/",
     "height": 295
    },
    "executionInfo": {
     "elapsed": 32,
     "status": "ok",
     "timestamp": 1640360078505,
     "user": {
      "displayName": "bo turbo",
      "photoUrl": "https://lh3.googleusercontent.com/a-/AOh14GgxmV8SoWvvAWwa1vJ_18oeD3h1vkWk3iEI0_zm=s64",
      "userId": "10121278098039451445"
     },
     "user_tz": -480
    },
    "id": "tIx-CahQSu3g",
    "outputId": "37698f38-f0bb-4eed-a9ef-1deadd86cfff"
   },
   "outputs": [
    {
     "data": {
      "image/png": "[encoded data removed]",
      "text/plain": [
       "<Figure size 432x288 with 1 Axes>"
      ]
     },
     "metadata": {},
     "output_type": "display_data"
    }
   ],
   "source": [
    "# plt.plot(user_quantiles,runtimes)\n",
    "# plt.ylabel('Runtime')\n",
    "# plt.xlabel('quantile size')\n",
    "\n",
    "# plt.title(\"Runtime for optimal model for different subset size\")\n",
    "# plt.show()"
   ]
  }
 ],
 "metadata": {
  "colab": {
   "collapsed_sections": [
    "rCFvCPCEIEMG",
    "Pou6njqwH68k",
    "Hsx5QdPXH_P0",
    "AXAHoZP-HndK",
    "BWfZ4kM8HYUY",
    "oVGPxbqIG716",
    "jUmZr1B1HEy6",
    "JI4EywiTHLak",
    "diI1tl3jGukl"
   ],
   "name": "deep&wide_rating_200w.ipynb",
   "provenance": [],
   "mount_file_id": "1eGOyLr5qada30dWXFFWJ0iCPVm3Ch9fF",
   "authorship_tag": "ABX9TyPew4OkwAixqJUHCuEuCqyI"
  },
  "kernelspec": {
   "display_name": "Python 3",
   "name": "python3"
  },
  "language_info": {
   "name": "python"
  },
  "pycharm": {
   "stem_cell": {
    "cell_type": "raw",
    "source": [],
    "metadata": {
     "collapsed": false
    }
   }
  }
 },
 "nbformat": 4,
 "nbformat_minor": 0
}